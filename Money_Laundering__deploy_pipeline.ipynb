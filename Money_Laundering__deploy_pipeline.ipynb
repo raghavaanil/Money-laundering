{
 "cells": [
  {
   "cell_type": "code",
   "execution_count": 1,
   "id": "80e25c44",
   "metadata": {
    "id": "80e25c44"
   },
   "outputs": [],
   "source": [
    "# Importing the required libraries \n",
    "import pandas as pd \n",
    "import numpy as np\n",
    "import matplotlib.pyplot as plt\n",
    "import seaborn as sns \n",
    "from sklearn.preprocessing import OneHotEncoder, MinMaxScaler\n",
    "from sklearn.model_selection import train_test_split, GridSearchCV\n",
    "from sklearn.metrics import accuracy_score, classification_report, confusion_matrix\n",
    "import plotly.express as px\n",
    "import warnings\n",
    "warnings.filterwarnings('ignore')\n",
    "%matplotlib inline"
   ]
  },
  {
   "cell_type": "code",
   "execution_count": 2,
   "id": "89c63dd8",
   "metadata": {
    "colab": {
     "base_uri": "https://localhost:8080/",
     "height": 487
    },
    "id": "89c63dd8",
    "outputId": "f0cc7d9c-7f48-426f-bc7b-d1b85c59daf4",
    "scrolled": true
   },
   "outputs": [
    {
     "data": {
      "text/html": [
       "<div>\n",
       "<style scoped>\n",
       "    .dataframe tbody tr th:only-of-type {\n",
       "        vertical-align: middle;\n",
       "    }\n",
       "\n",
       "    .dataframe tbody tr th {\n",
       "        vertical-align: top;\n",
       "    }\n",
       "\n",
       "    .dataframe thead th {\n",
       "        text-align: right;\n",
       "    }\n",
       "</style>\n",
       "<table border=\"1\" class=\"dataframe\">\n",
       "  <thead>\n",
       "    <tr style=\"text-align: right;\">\n",
       "      <th></th>\n",
       "      <th>step</th>\n",
       "      <th>type</th>\n",
       "      <th>amount</th>\n",
       "      <th>nameOrig</th>\n",
       "      <th>oldbalanceOrg</th>\n",
       "      <th>newbalanceOrig</th>\n",
       "      <th>nameDest</th>\n",
       "      <th>oldbalanceDest</th>\n",
       "      <th>newbalanceDest</th>\n",
       "      <th>isFraud</th>\n",
       "      <th>isFlaggedFraud</th>\n",
       "    </tr>\n",
       "  </thead>\n",
       "  <tbody>\n",
       "    <tr>\n",
       "      <th>0</th>\n",
       "      <td>1.0</td>\n",
       "      <td>PAYMENT</td>\n",
       "      <td>9839.64</td>\n",
       "      <td>C1231006815</td>\n",
       "      <td>170136.0</td>\n",
       "      <td>160296.36</td>\n",
       "      <td>M1979787155</td>\n",
       "      <td>0.00</td>\n",
       "      <td>0.00</td>\n",
       "      <td>0.0</td>\n",
       "      <td>0.0</td>\n",
       "    </tr>\n",
       "    <tr>\n",
       "      <th>1</th>\n",
       "      <td>1.0</td>\n",
       "      <td>PAYMENT</td>\n",
       "      <td>1864.28</td>\n",
       "      <td>C1666544295</td>\n",
       "      <td>21249.0</td>\n",
       "      <td>19384.72</td>\n",
       "      <td>M2044282225</td>\n",
       "      <td>0.00</td>\n",
       "      <td>0.00</td>\n",
       "      <td>0.0</td>\n",
       "      <td>0.0</td>\n",
       "    </tr>\n",
       "    <tr>\n",
       "      <th>2</th>\n",
       "      <td>1.0</td>\n",
       "      <td>TRANSFER</td>\n",
       "      <td>181.00</td>\n",
       "      <td>C1305486145</td>\n",
       "      <td>181.0</td>\n",
       "      <td>0.00</td>\n",
       "      <td>C553264065</td>\n",
       "      <td>0.00</td>\n",
       "      <td>0.00</td>\n",
       "      <td>1.0</td>\n",
       "      <td>0.0</td>\n",
       "    </tr>\n",
       "    <tr>\n",
       "      <th>3</th>\n",
       "      <td>1.0</td>\n",
       "      <td>CASH_OUT</td>\n",
       "      <td>181.00</td>\n",
       "      <td>C840083671</td>\n",
       "      <td>181.0</td>\n",
       "      <td>0.00</td>\n",
       "      <td>C38997010</td>\n",
       "      <td>21182.00</td>\n",
       "      <td>0.00</td>\n",
       "      <td>1.0</td>\n",
       "      <td>0.0</td>\n",
       "    </tr>\n",
       "    <tr>\n",
       "      <th>4</th>\n",
       "      <td>1.0</td>\n",
       "      <td>PAYMENT</td>\n",
       "      <td>11668.14</td>\n",
       "      <td>C2048537720</td>\n",
       "      <td>41554.0</td>\n",
       "      <td>29885.86</td>\n",
       "      <td>M1230701703</td>\n",
       "      <td>0.00</td>\n",
       "      <td>0.00</td>\n",
       "      <td>0.0</td>\n",
       "      <td>0.0</td>\n",
       "    </tr>\n",
       "    <tr>\n",
       "      <th>...</th>\n",
       "      <td>...</td>\n",
       "      <td>...</td>\n",
       "      <td>...</td>\n",
       "      <td>...</td>\n",
       "      <td>...</td>\n",
       "      <td>...</td>\n",
       "      <td>...</td>\n",
       "      <td>...</td>\n",
       "      <td>...</td>\n",
       "      <td>...</td>\n",
       "      <td>...</td>\n",
       "    </tr>\n",
       "    <tr>\n",
       "      <th>99995</th>\n",
       "      <td>10.0</td>\n",
       "      <td>PAYMENT</td>\n",
       "      <td>4020.66</td>\n",
       "      <td>C1410794718</td>\n",
       "      <td>NaN</td>\n",
       "      <td>155908.34</td>\n",
       "      <td>M1257036576</td>\n",
       "      <td>0.00</td>\n",
       "      <td>0.00</td>\n",
       "      <td>NaN</td>\n",
       "      <td>0.0</td>\n",
       "    </tr>\n",
       "    <tr>\n",
       "      <th>99996</th>\n",
       "      <td>10.0</td>\n",
       "      <td>PAYMENT</td>\n",
       "      <td>18345.49</td>\n",
       "      <td>C744303677</td>\n",
       "      <td>NaN</td>\n",
       "      <td>0.00</td>\n",
       "      <td>M1785344556</td>\n",
       "      <td>0.00</td>\n",
       "      <td>0.00</td>\n",
       "      <td>NaN</td>\n",
       "      <td>0.0</td>\n",
       "    </tr>\n",
       "    <tr>\n",
       "      <th>99997</th>\n",
       "      <td>10.0</td>\n",
       "      <td>CASH_IN</td>\n",
       "      <td>183774.91</td>\n",
       "      <td>C104331851</td>\n",
       "      <td>NaN</td>\n",
       "      <td>222947.91</td>\n",
       "      <td>C36392889</td>\n",
       "      <td>54925.05</td>\n",
       "      <td>0.00</td>\n",
       "      <td>NaN</td>\n",
       "      <td>0.0</td>\n",
       "    </tr>\n",
       "    <tr>\n",
       "      <th>99998</th>\n",
       "      <td>10.0</td>\n",
       "      <td>CASH_OUT</td>\n",
       "      <td>82237.17</td>\n",
       "      <td>C707662966</td>\n",
       "      <td>NaN</td>\n",
       "      <td>0.00</td>\n",
       "      <td>C1553004158</td>\n",
       "      <td>592635.66</td>\n",
       "      <td>799140.46</td>\n",
       "      <td>NaN</td>\n",
       "      <td>0.0</td>\n",
       "    </tr>\n",
       "    <tr>\n",
       "      <th>99999</th>\n",
       "      <td>10.0</td>\n",
       "      <td>PAYMENT</td>\n",
       "      <td>20096.56</td>\n",
       "      <td>C1868032458</td>\n",
       "      <td>NaN</td>\n",
       "      <td>90020.44</td>\n",
       "      <td>M1419201886</td>\n",
       "      <td>0.00</td>\n",
       "      <td>0.00</td>\n",
       "      <td>NaN</td>\n",
       "      <td>0.0</td>\n",
       "    </tr>\n",
       "  </tbody>\n",
       "</table>\n",
       "<p>100000 rows × 11 columns</p>\n",
       "</div>"
      ],
      "text/plain": [
       "       step      type     amount     nameOrig  oldbalanceOrg  newbalanceOrig  \\\n",
       "0       1.0   PAYMENT    9839.64  C1231006815       170136.0       160296.36   \n",
       "1       1.0   PAYMENT    1864.28  C1666544295        21249.0        19384.72   \n",
       "2       1.0  TRANSFER     181.00  C1305486145          181.0            0.00   \n",
       "3       1.0  CASH_OUT     181.00   C840083671          181.0            0.00   \n",
       "4       1.0   PAYMENT   11668.14  C2048537720        41554.0        29885.86   \n",
       "...     ...       ...        ...          ...            ...             ...   \n",
       "99995  10.0   PAYMENT    4020.66  C1410794718            NaN       155908.34   \n",
       "99996  10.0   PAYMENT   18345.49   C744303677            NaN            0.00   \n",
       "99997  10.0   CASH_IN  183774.91   C104331851            NaN       222947.91   \n",
       "99998  10.0  CASH_OUT   82237.17   C707662966            NaN            0.00   \n",
       "99999  10.0   PAYMENT   20096.56  C1868032458            NaN        90020.44   \n",
       "\n",
       "          nameDest  oldbalanceDest  newbalanceDest  isFraud  isFlaggedFraud  \n",
       "0      M1979787155            0.00            0.00      0.0             0.0  \n",
       "1      M2044282225            0.00            0.00      0.0             0.0  \n",
       "2       C553264065            0.00            0.00      1.0             0.0  \n",
       "3        C38997010        21182.00            0.00      1.0             0.0  \n",
       "4      M1230701703            0.00            0.00      0.0             0.0  \n",
       "...            ...             ...             ...      ...             ...  \n",
       "99995  M1257036576            0.00            0.00      NaN             0.0  \n",
       "99996  M1785344556            0.00            0.00      NaN             0.0  \n",
       "99997    C36392889        54925.05            0.00      NaN             0.0  \n",
       "99998  C1553004158       592635.66       799140.46      NaN             0.0  \n",
       "99999  M1419201886            0.00            0.00      NaN             0.0  \n",
       "\n",
       "[100000 rows x 11 columns]"
      ]
     },
     "execution_count": 2,
     "metadata": {},
     "output_type": "execute_result"
    }
   ],
   "source": [
    "df = pd.read_csv('E:\\Project_95\\Money_Laundering_Dataset _New.csv')\n",
    "df"
   ]
  },
  {
   "cell_type": "code",
   "execution_count": 3,
   "id": "1d7821bb",
   "metadata": {
    "colab": {
     "base_uri": "https://localhost:8080/"
    },
    "id": "1d7821bb",
    "outputId": "54dfd410-e94d-4dcd-bc05-9b93e8d7e00c"
   },
   "outputs": [
    {
     "name": "stdout",
     "output_type": "stream",
     "text": [
      "<class 'pandas.core.frame.DataFrame'>\n",
      "RangeIndex: 100000 entries, 0 to 99999\n",
      "Data columns (total 11 columns):\n",
      " #   Column          Non-Null Count   Dtype  \n",
      "---  ------          --------------   -----  \n",
      " 0   step            99323 non-null   float64\n",
      " 1   type            100000 non-null  object \n",
      " 2   amount          100000 non-null  float64\n",
      " 3   nameOrig        99990 non-null   object \n",
      " 4   oldbalanceOrg   99857 non-null   float64\n",
      " 5   newbalanceOrig  99978 non-null   float64\n",
      " 6   nameDest        99996 non-null   object \n",
      " 7   oldbalanceDest  99948 non-null   float64\n",
      " 8   newbalanceDest  100000 non-null  float64\n",
      " 9   isFraud         99683 non-null   float64\n",
      " 10  isFlaggedFraud  99929 non-null   float64\n",
      "dtypes: float64(8), object(3)\n",
      "memory usage: 8.4+ MB\n"
     ]
    }
   ],
   "source": [
    "df.info()"
   ]
  },
  {
   "cell_type": "code",
   "execution_count": 4,
   "id": "902d9237",
   "metadata": {
    "colab": {
     "base_uri": "https://localhost:8080/"
    },
    "id": "902d9237",
    "outputId": "7046e0dd-9797-43db-e968-8931054e985c"
   },
   "outputs": [
    {
     "data": {
      "text/plain": [
       "(100000, 11)"
      ]
     },
     "execution_count": 4,
     "metadata": {},
     "output_type": "execute_result"
    }
   ],
   "source": [
    "df.shape"
   ]
  },
  {
   "cell_type": "raw",
   "id": "d07c2adf",
   "metadata": {
    "id": "d07c2adf"
   },
   "source": [
    "This is a sample of 1 row with headers explanation:\n",
    "\n",
    "1 , PAYMENT , 1060.31 , C429214117 , 1089.0 , 28.69 , M1591654462 , 0.0 , 0.0 , 0 , 0\n",
    "\n",
    "step - maps a unit of time in the real world. In this case 1 step is 1 hour of time. Total steps 744 (30 days simulation).\n",
    "\n",
    "type - CASH-IN, CASH-OUT, DEBIT, PAYMENT and TRANSFER.\n",
    "\n",
    "amount -\n",
    "\n",
    "amount of the transaction in local currency.\n",
    "\n",
    "nameOrig - customer who started the transaction\n",
    "\n",
    "oldbalanceOrg - initial balance before the transaction\n",
    "\n",
    "newbalanceOrig - new balance after the transaction\n",
    "\n",
    "nameDest - customer who is the recipient of the transaction\n",
    "\n",
    "oldbalanceDest - initial balance recipient before the transaction. Note that there is not information for customers that start with M (Merchants).\n",
    "\n",
    "newbalanceDest - new balance recipient after the transaction. Note that there is not information for customers that start with M (Merchants).\n",
    "\n",
    "isFraud - This is the transactions made by the fraudulent agents inside the simulation. In this specific dataset the fraudulent behavior of the agents aims to profit by taking control or customers accounts and try to empty the funds by transferring to another account and then cashing out of the system.\n",
    "\n",
    "isFlaggedFraud - The business model aims to control massive transfers from one account to another and flags illegal attempts. An illegal attempt in this dataset is an attempt to transfer more than 200.000 in a single transaction.\n"
   ]
  },
  {
   "cell_type": "code",
   "execution_count": 5,
   "id": "bd07eb75",
   "metadata": {
    "colab": {
     "base_uri": "https://localhost:8080/"
    },
    "id": "bd07eb75",
    "outputId": "56f74810-4b49-4f48-dee2-b951ae961c88"
   },
   "outputs": [
    {
     "name": "stdout",
     "output_type": "stream",
     "text": [
      "Total number of data point : 100000\n",
      "Total number of columns : 11\n",
      "Number of negative data poins(genuine) : 99268\n",
      "Number of positive data poins(fraud) : 415\n"
     ]
    }
   ],
   "source": [
    "print(\"Total number of data point :\" ,df.shape[0])\n",
    "print(\"Total number of columns :\" ,df.shape[1])\n",
    "print(\"Number of negative data poins(genuine) :\",df[df[\"isFraud\"] == 0].shape[0])\n",
    "print(\"Number of positive data poins(fraud) :\",df[df[\"isFraud\"] == 1].shape[0])"
   ]
  },
  {
   "cell_type": "code",
   "execution_count": 6,
   "id": "3a75cac9",
   "metadata": {
    "colab": {
     "base_uri": "https://localhost:8080/"
    },
    "id": "3a75cac9",
    "outputId": "3639e49f-d142-4e2b-ba55-bc1ffa5001a3"
   },
   "outputs": [
    {
     "data": {
      "text/plain": [
       "step              677\n",
       "type                0\n",
       "amount              0\n",
       "nameOrig           10\n",
       "oldbalanceOrg     143\n",
       "newbalanceOrig     22\n",
       "nameDest            4\n",
       "oldbalanceDest     52\n",
       "newbalanceDest      0\n",
       "isFraud           317\n",
       "isFlaggedFraud     71\n",
       "dtype: int64"
      ]
     },
     "execution_count": 6,
     "metadata": {},
     "output_type": "execute_result"
    }
   ],
   "source": [
    "# checking for null values in the given dataset\n",
    "df.isna().sum()"
   ]
  },
  {
   "cell_type": "raw",
   "id": "1b643d90",
   "metadata": {
    "id": "1b643d90"
   },
   "source": [
    "# As we can see the there are null values in 'step','nameorig','oldbalanceOrg','newbalanceOrig','nameDest','oldbalanceDest','isFraud','isFlaggedFraud' columns \n",
    "# For treating the missing values we use the imputation techinque\n",
    "# in the following dataset we are choosing SimpleImputer wiht strategy as median to treat account balance and modeimputer to treat step and isfraud "
   ]
  },
  {
   "cell_type": "code",
   "execution_count": 7,
   "id": "dc92565e",
   "metadata": {
    "id": "dc92565e"
   },
   "outputs": [],
   "source": [
    "from sklearn.impute import SimpleImputer\n",
    "\n",
    "# Separate the columns with missing values\n",
    "missing_cols = ['oldbalanceOrg', 'newbalanceOrig', 'oldbalanceDest']\n",
    "\n",
    "imputer = SimpleImputer(strategy='median')\n",
    "\n",
    "# Impute the missing values\n",
    "df[missing_cols] = imputer.fit_transform(df[missing_cols])"
   ]
  },
  {
   "cell_type": "code",
   "execution_count": 8,
   "id": "95644886",
   "metadata": {
    "id": "95644886"
   },
   "outputs": [],
   "source": [
    "from sklearn.impute import SimpleImputer\n",
    "\n",
    "# Separate the columns with missing values\n",
    "missing_col1 = ['step', 'nameOrig', 'nameDest','isFraud','isFlaggedFraud']\n",
    "\n",
    "# Create a KNN imputer object\n",
    "imputer = SimpleImputer(strategy='most_frequent')\n",
    "\n",
    "# Impute the missing values\n",
    "df[missing_col1] = imputer.fit_transform(df[missing_col1])"
   ]
  },
  {
   "cell_type": "code",
   "execution_count": 9,
   "id": "b08fd2f4",
   "metadata": {
    "colab": {
     "base_uri": "https://localhost:8080/"
    },
    "id": "b08fd2f4",
    "outputId": "8e635087-74fb-4eb8-ff09-3fff5894688f"
   },
   "outputs": [
    {
     "data": {
      "text/plain": [
       "step              0\n",
       "type              0\n",
       "amount            0\n",
       "nameOrig          0\n",
       "oldbalanceOrg     0\n",
       "newbalanceOrig    0\n",
       "nameDest          0\n",
       "oldbalanceDest    0\n",
       "newbalanceDest    0\n",
       "isFraud           0\n",
       "isFlaggedFraud    0\n",
       "dtype: int64"
      ]
     },
     "execution_count": 9,
     "metadata": {},
     "output_type": "execute_result"
    }
   ],
   "source": [
    "# checking after performing imputation on the dataset\n",
    "df.isna().sum()"
   ]
  },
  {
   "cell_type": "raw",
   "id": "c076793f",
   "metadata": {
    "id": "c076793f"
   },
   "source": [
    "# as we can observe that there are no missing values in the dataset "
   ]
  },
  {
   "cell_type": "raw",
   "id": "2e816e99",
   "metadata": {
    "id": "2e816e99"
   },
   "source": [
    "# check for duplicates in the dataset"
   ]
  },
  {
   "cell_type": "code",
   "execution_count": 10,
   "id": "fe9c4923",
   "metadata": {
    "colab": {
     "base_uri": "https://localhost:8080/"
    },
    "id": "fe9c4923",
    "outputId": "1f43d1f8-3dd3-4942-b092-f94075460eed"
   },
   "outputs": [
    {
     "data": {
      "text/plain": [
       "0"
      ]
     },
     "execution_count": 10,
     "metadata": {},
     "output_type": "execute_result"
    }
   ],
   "source": [
    "df.duplicated().sum() # as we can see there are no duplicates in the dataset"
   ]
  },
  {
   "cell_type": "code",
   "execution_count": 11,
   "id": "94b9a8b7",
   "metadata": {
    "colab": {
     "base_uri": "https://localhost:8080/"
    },
    "id": "94b9a8b7",
    "outputId": "2648ad1f-0f73-4d9e-f314-2a4d9d18fdb1"
   },
   "outputs": [
    {
     "data": {
      "text/plain": [
       "0"
      ]
     },
     "execution_count": 11,
     "metadata": {},
     "output_type": "execute_result"
    }
   ],
   "source": [
    "df.transpose().duplicated().sum()"
   ]
  },
  {
   "cell_type": "raw",
   "id": "4597a7c2",
   "metadata": {
    "id": "4597a7c2"
   },
   "source": [
    "# EDA"
   ]
  },
  {
   "cell_type": "code",
   "execution_count": 12,
   "id": "0da9f943",
   "metadata": {
    "colab": {
     "base_uri": "https://localhost:8080/"
    },
    "id": "0da9f943",
    "outputId": "43498f7c-395f-4cc1-9f35-74e2f18d597b"
   },
   "outputs": [
    {
     "name": "stdout",
     "output_type": "stream",
     "text": [
      "Total number of data point : 100000\n",
      "Total number of columns : 11\n",
      "Number of negative data poins(genuine) : 99585\n",
      "Number of positive data poins(fraud) : 415\n"
     ]
    }
   ],
   "source": [
    "print(\"Total number of data point :\" ,df.shape[0])\n",
    "print(\"Total number of columns :\" ,df.shape[1])\n",
    "print(\"Number of negative data poins(genuine) :\",df[df[\"isFraud\"] == 0].shape[0])\n",
    "print(\"Number of positive data poins(fraud) :\",df[df[\"isFraud\"] == 1].shape[0])"
   ]
  },
  {
   "cell_type": "code",
   "execution_count": 13,
   "id": "7d2add0c",
   "metadata": {
    "id": "7d2add0c"
   },
   "outputs": [],
   "source": [
    "# First moment of business decision\n",
    "# before doing first moment lets rename the columns \n",
    "df = df.rename(columns={'step': 'time', 'type': 'transaction_type'})"
   ]
  },
  {
   "cell_type": "code",
   "execution_count": 14,
   "id": "71b84353",
   "metadata": {
    "colab": {
     "base_uri": "https://localhost:8080/",
     "height": 487
    },
    "id": "71b84353",
    "outputId": "5e324481-3c0b-495c-ab06-0a2a0e2531a6"
   },
   "outputs": [
    {
     "data": {
      "text/html": [
       "<div>\n",
       "<style scoped>\n",
       "    .dataframe tbody tr th:only-of-type {\n",
       "        vertical-align: middle;\n",
       "    }\n",
       "\n",
       "    .dataframe tbody tr th {\n",
       "        vertical-align: top;\n",
       "    }\n",
       "\n",
       "    .dataframe thead th {\n",
       "        text-align: right;\n",
       "    }\n",
       "</style>\n",
       "<table border=\"1\" class=\"dataframe\">\n",
       "  <thead>\n",
       "    <tr style=\"text-align: right;\">\n",
       "      <th></th>\n",
       "      <th>time</th>\n",
       "      <th>transaction_type</th>\n",
       "      <th>amount</th>\n",
       "      <th>nameOrig</th>\n",
       "      <th>oldbalanceOrg</th>\n",
       "      <th>newbalanceOrig</th>\n",
       "      <th>nameDest</th>\n",
       "      <th>oldbalanceDest</th>\n",
       "      <th>newbalanceDest</th>\n",
       "      <th>isFraud</th>\n",
       "      <th>isFlaggedFraud</th>\n",
       "    </tr>\n",
       "  </thead>\n",
       "  <tbody>\n",
       "    <tr>\n",
       "      <th>0</th>\n",
       "      <td>1.0</td>\n",
       "      <td>PAYMENT</td>\n",
       "      <td>9839.64</td>\n",
       "      <td>C1231006815</td>\n",
       "      <td>170136.0</td>\n",
       "      <td>160296.36</td>\n",
       "      <td>M1979787155</td>\n",
       "      <td>0.00</td>\n",
       "      <td>0.00</td>\n",
       "      <td>0.0</td>\n",
       "      <td>0.0</td>\n",
       "    </tr>\n",
       "    <tr>\n",
       "      <th>1</th>\n",
       "      <td>1.0</td>\n",
       "      <td>PAYMENT</td>\n",
       "      <td>1864.28</td>\n",
       "      <td>C1666544295</td>\n",
       "      <td>21249.0</td>\n",
       "      <td>19384.72</td>\n",
       "      <td>M2044282225</td>\n",
       "      <td>0.00</td>\n",
       "      <td>0.00</td>\n",
       "      <td>0.0</td>\n",
       "      <td>0.0</td>\n",
       "    </tr>\n",
       "    <tr>\n",
       "      <th>2</th>\n",
       "      <td>1.0</td>\n",
       "      <td>TRANSFER</td>\n",
       "      <td>181.00</td>\n",
       "      <td>C1305486145</td>\n",
       "      <td>181.0</td>\n",
       "      <td>0.00</td>\n",
       "      <td>C553264065</td>\n",
       "      <td>0.00</td>\n",
       "      <td>0.00</td>\n",
       "      <td>1.0</td>\n",
       "      <td>0.0</td>\n",
       "    </tr>\n",
       "    <tr>\n",
       "      <th>3</th>\n",
       "      <td>1.0</td>\n",
       "      <td>CASH_OUT</td>\n",
       "      <td>181.00</td>\n",
       "      <td>C840083671</td>\n",
       "      <td>181.0</td>\n",
       "      <td>0.00</td>\n",
       "      <td>C38997010</td>\n",
       "      <td>21182.00</td>\n",
       "      <td>0.00</td>\n",
       "      <td>1.0</td>\n",
       "      <td>0.0</td>\n",
       "    </tr>\n",
       "    <tr>\n",
       "      <th>4</th>\n",
       "      <td>1.0</td>\n",
       "      <td>PAYMENT</td>\n",
       "      <td>11668.14</td>\n",
       "      <td>C2048537720</td>\n",
       "      <td>41554.0</td>\n",
       "      <td>29885.86</td>\n",
       "      <td>M1230701703</td>\n",
       "      <td>0.00</td>\n",
       "      <td>0.00</td>\n",
       "      <td>0.0</td>\n",
       "      <td>0.0</td>\n",
       "    </tr>\n",
       "    <tr>\n",
       "      <th>...</th>\n",
       "      <td>...</td>\n",
       "      <td>...</td>\n",
       "      <td>...</td>\n",
       "      <td>...</td>\n",
       "      <td>...</td>\n",
       "      <td>...</td>\n",
       "      <td>...</td>\n",
       "      <td>...</td>\n",
       "      <td>...</td>\n",
       "      <td>...</td>\n",
       "      <td>...</td>\n",
       "    </tr>\n",
       "    <tr>\n",
       "      <th>99995</th>\n",
       "      <td>10.0</td>\n",
       "      <td>PAYMENT</td>\n",
       "      <td>4020.66</td>\n",
       "      <td>C1410794718</td>\n",
       "      <td>20100.0</td>\n",
       "      <td>155908.34</td>\n",
       "      <td>M1257036576</td>\n",
       "      <td>0.00</td>\n",
       "      <td>0.00</td>\n",
       "      <td>0.0</td>\n",
       "      <td>0.0</td>\n",
       "    </tr>\n",
       "    <tr>\n",
       "      <th>99996</th>\n",
       "      <td>10.0</td>\n",
       "      <td>PAYMENT</td>\n",
       "      <td>18345.49</td>\n",
       "      <td>C744303677</td>\n",
       "      <td>20100.0</td>\n",
       "      <td>0.00</td>\n",
       "      <td>M1785344556</td>\n",
       "      <td>0.00</td>\n",
       "      <td>0.00</td>\n",
       "      <td>0.0</td>\n",
       "      <td>0.0</td>\n",
       "    </tr>\n",
       "    <tr>\n",
       "      <th>99997</th>\n",
       "      <td>10.0</td>\n",
       "      <td>CASH_IN</td>\n",
       "      <td>183774.91</td>\n",
       "      <td>C104331851</td>\n",
       "      <td>20100.0</td>\n",
       "      <td>222947.91</td>\n",
       "      <td>C36392889</td>\n",
       "      <td>54925.05</td>\n",
       "      <td>0.00</td>\n",
       "      <td>0.0</td>\n",
       "      <td>0.0</td>\n",
       "    </tr>\n",
       "    <tr>\n",
       "      <th>99998</th>\n",
       "      <td>10.0</td>\n",
       "      <td>CASH_OUT</td>\n",
       "      <td>82237.17</td>\n",
       "      <td>C707662966</td>\n",
       "      <td>20100.0</td>\n",
       "      <td>0.00</td>\n",
       "      <td>C1553004158</td>\n",
       "      <td>592635.66</td>\n",
       "      <td>799140.46</td>\n",
       "      <td>0.0</td>\n",
       "      <td>0.0</td>\n",
       "    </tr>\n",
       "    <tr>\n",
       "      <th>99999</th>\n",
       "      <td>10.0</td>\n",
       "      <td>PAYMENT</td>\n",
       "      <td>20096.56</td>\n",
       "      <td>C1868032458</td>\n",
       "      <td>20100.0</td>\n",
       "      <td>90020.44</td>\n",
       "      <td>M1419201886</td>\n",
       "      <td>0.00</td>\n",
       "      <td>0.00</td>\n",
       "      <td>0.0</td>\n",
       "      <td>0.0</td>\n",
       "    </tr>\n",
       "  </tbody>\n",
       "</table>\n",
       "<p>100000 rows × 11 columns</p>\n",
       "</div>"
      ],
      "text/plain": [
       "       time transaction_type     amount     nameOrig  oldbalanceOrg  \\\n",
       "0       1.0          PAYMENT    9839.64  C1231006815       170136.0   \n",
       "1       1.0          PAYMENT    1864.28  C1666544295        21249.0   \n",
       "2       1.0         TRANSFER     181.00  C1305486145          181.0   \n",
       "3       1.0         CASH_OUT     181.00   C840083671          181.0   \n",
       "4       1.0          PAYMENT   11668.14  C2048537720        41554.0   \n",
       "...     ...              ...        ...          ...            ...   \n",
       "99995  10.0          PAYMENT    4020.66  C1410794718        20100.0   \n",
       "99996  10.0          PAYMENT   18345.49   C744303677        20100.0   \n",
       "99997  10.0          CASH_IN  183774.91   C104331851        20100.0   \n",
       "99998  10.0         CASH_OUT   82237.17   C707662966        20100.0   \n",
       "99999  10.0          PAYMENT   20096.56  C1868032458        20100.0   \n",
       "\n",
       "       newbalanceOrig     nameDest  oldbalanceDest  newbalanceDest isFraud  \\\n",
       "0           160296.36  M1979787155            0.00            0.00     0.0   \n",
       "1            19384.72  M2044282225            0.00            0.00     0.0   \n",
       "2                0.00   C553264065            0.00            0.00     1.0   \n",
       "3                0.00    C38997010        21182.00            0.00     1.0   \n",
       "4            29885.86  M1230701703            0.00            0.00     0.0   \n",
       "...               ...          ...             ...             ...     ...   \n",
       "99995       155908.34  M1257036576            0.00            0.00     0.0   \n",
       "99996            0.00  M1785344556            0.00            0.00     0.0   \n",
       "99997       222947.91    C36392889        54925.05            0.00     0.0   \n",
       "99998            0.00  C1553004158       592635.66       799140.46     0.0   \n",
       "99999        90020.44  M1419201886            0.00            0.00     0.0   \n",
       "\n",
       "      isFlaggedFraud  \n",
       "0                0.0  \n",
       "1                0.0  \n",
       "2                0.0  \n",
       "3                0.0  \n",
       "4                0.0  \n",
       "...              ...  \n",
       "99995            0.0  \n",
       "99996            0.0  \n",
       "99997            0.0  \n",
       "99998            0.0  \n",
       "99999            0.0  \n",
       "\n",
       "[100000 rows x 11 columns]"
      ]
     },
     "execution_count": 14,
     "metadata": {},
     "output_type": "execute_result"
    }
   ],
   "source": [
    "df # we have changed the names of the column "
   ]
  },
  {
   "cell_type": "code",
   "execution_count": 15,
   "id": "5a671203",
   "metadata": {
    "colab": {
     "base_uri": "https://localhost:8080/"
    },
    "id": "5a671203",
    "outputId": "6f79f27a-e37e-43d1-8f12-0e542ff2d3c9"
   },
   "outputs": [
    {
     "name": "stdout",
     "output_type": "stream",
     "text": [
      "time                  int64\n",
      "transaction_type     object\n",
      "amount              float64\n",
      "nameOrig             object\n",
      "oldbalanceOrg       float64\n",
      "newbalanceOrig      float64\n",
      "nameDest             object\n",
      "oldbalanceDest      float64\n",
      "newbalanceDest      float64\n",
      "isFraud               int64\n",
      "isFlaggedFraud       object\n",
      "dtype: object\n"
     ]
    }
   ],
   "source": [
    "df.time  = df.time.astype('int64') # we are doing this as it indicate time\n",
    "df.isFraud  = df.isFraud.astype('int64') # we consider it as an categorical data \n",
    "print(df.dtypes)"
   ]
  },
  {
   "cell_type": "code",
   "execution_count": 16,
   "id": "f889c1f6",
   "metadata": {
    "colab": {
     "base_uri": "https://localhost:8080/",
     "height": 237
    },
    "id": "f889c1f6",
    "outputId": "e0c80437-0e8d-4be1-de4f-cbf9baadc4d7"
   },
   "outputs": [
    {
     "data": {
      "text/html": [
       "<div>\n",
       "<style scoped>\n",
       "    .dataframe tbody tr th:only-of-type {\n",
       "        vertical-align: middle;\n",
       "    }\n",
       "\n",
       "    .dataframe tbody tr th {\n",
       "        vertical-align: top;\n",
       "    }\n",
       "\n",
       "    .dataframe thead th {\n",
       "        text-align: right;\n",
       "    }\n",
       "</style>\n",
       "<table border=\"1\" class=\"dataframe\">\n",
       "  <thead>\n",
       "    <tr style=\"text-align: right;\">\n",
       "      <th>isFraud</th>\n",
       "      <th>0</th>\n",
       "      <th>1</th>\n",
       "    </tr>\n",
       "    <tr>\n",
       "      <th>transaction_type</th>\n",
       "      <th></th>\n",
       "      <th></th>\n",
       "    </tr>\n",
       "  </thead>\n",
       "  <tbody>\n",
       "    <tr>\n",
       "      <th>CASH_IN</th>\n",
       "      <td>20180</td>\n",
       "      <td>5</td>\n",
       "    </tr>\n",
       "    <tr>\n",
       "      <th>CASH_OUT</th>\n",
       "      <td>30553</td>\n",
       "      <td>165</td>\n",
       "    </tr>\n",
       "    <tr>\n",
       "      <th>DEBIT</th>\n",
       "      <td>977</td>\n",
       "      <td>11</td>\n",
       "    </tr>\n",
       "    <tr>\n",
       "      <th>PAYMENT</th>\n",
       "      <td>39367</td>\n",
       "      <td>145</td>\n",
       "    </tr>\n",
       "    <tr>\n",
       "      <th>TRANSFER</th>\n",
       "      <td>8508</td>\n",
       "      <td>89</td>\n",
       "    </tr>\n",
       "  </tbody>\n",
       "</table>\n",
       "</div>"
      ],
      "text/plain": [
       "isFraud               0    1\n",
       "transaction_type            \n",
       "CASH_IN           20180    5\n",
       "CASH_OUT          30553  165\n",
       "DEBIT               977   11\n",
       "PAYMENT           39367  145\n",
       "TRANSFER           8508   89"
      ]
     },
     "execution_count": 16,
     "metadata": {},
     "output_type": "execute_result"
    }
   ],
   "source": [
    "pd.crosstab(df['transaction_type'] , df['isFraud']) # checking which transacton type has more genuine and fraud transaction"
   ]
  },
  {
   "cell_type": "code",
   "execution_count": 17,
   "id": "09d865ba",
   "metadata": {
    "colab": {
     "base_uri": "https://localhost:8080/"
    },
    "id": "09d865ba",
    "outputId": "7a38db07-5584-421a-84f5-bc7eef7d4fe6"
   },
   "outputs": [
    {
     "name": "stdout",
     "output_type": "stream",
     "text": [
      "Are there any mismatch in the balance at origin and destination after transaction?\n",
      "Balance Error(%) at the Sender: 98.4\n",
      "Balance Error(%) at the Receiver: 92.73\n"
     ]
    }
   ],
   "source": [
    "# Feature enginering \n",
    "print(\"Are there any mismatch in the balance at origin and destination after transaction?\")\n",
    "df['error_orig'] = (df[\"oldbalanceOrg\"] - df[\"amount\"] != df[\"newbalanceOrig\"]).astype(int)\n",
    "df['error_dest'] = (df[\"oldbalanceDest\"] + df[\"amount\"] != df[\"newbalanceDest\"]).astype(int)\n",
    "\n",
    "print(\"Balance Error(%) at the Sender:\",round(df['error_orig'].value_counts()[1]/df.shape[0] * 100,2))\n",
    "print(\"Balance Error(%) at the Receiver:\",round(df['error_dest'].value_counts()[1]/df.shape[0] * 100,2))\n",
    "\n",
    "#print(\"Valid Balance(%) at the origin:\",round(data['error_orig'].value_counts()[0]/data.shape[0] * 100,2))\n",
    "#print(\"Valid Balance(%) at the dest:\",round(data['error_dest'].value_counts()[0]/data.shape[0] * 100,2))"
   ]
  },
  {
   "cell_type": "code",
   "execution_count": 18,
   "id": "45900316",
   "metadata": {
    "id": "45900316"
   },
   "outputs": [],
   "source": [
    "df['newbalanceSender']= df['oldbalanceOrg'] - df['amount'].astype(float)\n",
    "df['newbalanceReceiver'] = df['oldbalanceDest'] + df['amount'].astype(float)"
   ]
  },
  {
   "cell_type": "code",
   "execution_count": 19,
   "id": "7c6d6556",
   "metadata": {
    "colab": {
     "base_uri": "https://localhost:8080/",
     "height": 487
    },
    "id": "7c6d6556",
    "outputId": "a3699fab-82b8-4fe8-9bbf-704988b53fd3"
   },
   "outputs": [
    {
     "data": {
      "text/html": [
       "<div>\n",
       "<style scoped>\n",
       "    .dataframe tbody tr th:only-of-type {\n",
       "        vertical-align: middle;\n",
       "    }\n",
       "\n",
       "    .dataframe tbody tr th {\n",
       "        vertical-align: top;\n",
       "    }\n",
       "\n",
       "    .dataframe thead th {\n",
       "        text-align: right;\n",
       "    }\n",
       "</style>\n",
       "<table border=\"1\" class=\"dataframe\">\n",
       "  <thead>\n",
       "    <tr style=\"text-align: right;\">\n",
       "      <th></th>\n",
       "      <th>time</th>\n",
       "      <th>transaction_type</th>\n",
       "      <th>amount</th>\n",
       "      <th>nameOrig</th>\n",
       "      <th>oldbalanceOrg</th>\n",
       "      <th>newbalanceOrig</th>\n",
       "      <th>nameDest</th>\n",
       "      <th>oldbalanceDest</th>\n",
       "      <th>newbalanceDest</th>\n",
       "      <th>isFraud</th>\n",
       "      <th>isFlaggedFraud</th>\n",
       "      <th>error_orig</th>\n",
       "      <th>error_dest</th>\n",
       "      <th>newbalanceSender</th>\n",
       "      <th>newbalanceReceiver</th>\n",
       "    </tr>\n",
       "  </thead>\n",
       "  <tbody>\n",
       "    <tr>\n",
       "      <th>0</th>\n",
       "      <td>1</td>\n",
       "      <td>PAYMENT</td>\n",
       "      <td>9839.64</td>\n",
       "      <td>C1231006815</td>\n",
       "      <td>170136.0</td>\n",
       "      <td>160296.36</td>\n",
       "      <td>M1979787155</td>\n",
       "      <td>0.00</td>\n",
       "      <td>0.00</td>\n",
       "      <td>0</td>\n",
       "      <td>0.0</td>\n",
       "      <td>0</td>\n",
       "      <td>1</td>\n",
       "      <td>160296.36</td>\n",
       "      <td>9839.64</td>\n",
       "    </tr>\n",
       "    <tr>\n",
       "      <th>1</th>\n",
       "      <td>1</td>\n",
       "      <td>PAYMENT</td>\n",
       "      <td>1864.28</td>\n",
       "      <td>C1666544295</td>\n",
       "      <td>21249.0</td>\n",
       "      <td>19384.72</td>\n",
       "      <td>M2044282225</td>\n",
       "      <td>0.00</td>\n",
       "      <td>0.00</td>\n",
       "      <td>0</td>\n",
       "      <td>0.0</td>\n",
       "      <td>0</td>\n",
       "      <td>1</td>\n",
       "      <td>19384.72</td>\n",
       "      <td>1864.28</td>\n",
       "    </tr>\n",
       "    <tr>\n",
       "      <th>2</th>\n",
       "      <td>1</td>\n",
       "      <td>TRANSFER</td>\n",
       "      <td>181.00</td>\n",
       "      <td>C1305486145</td>\n",
       "      <td>181.0</td>\n",
       "      <td>0.00</td>\n",
       "      <td>C553264065</td>\n",
       "      <td>0.00</td>\n",
       "      <td>0.00</td>\n",
       "      <td>1</td>\n",
       "      <td>0.0</td>\n",
       "      <td>0</td>\n",
       "      <td>1</td>\n",
       "      <td>0.00</td>\n",
       "      <td>181.00</td>\n",
       "    </tr>\n",
       "    <tr>\n",
       "      <th>3</th>\n",
       "      <td>1</td>\n",
       "      <td>CASH_OUT</td>\n",
       "      <td>181.00</td>\n",
       "      <td>C840083671</td>\n",
       "      <td>181.0</td>\n",
       "      <td>0.00</td>\n",
       "      <td>C38997010</td>\n",
       "      <td>21182.00</td>\n",
       "      <td>0.00</td>\n",
       "      <td>1</td>\n",
       "      <td>0.0</td>\n",
       "      <td>0</td>\n",
       "      <td>1</td>\n",
       "      <td>0.00</td>\n",
       "      <td>21363.00</td>\n",
       "    </tr>\n",
       "    <tr>\n",
       "      <th>4</th>\n",
       "      <td>1</td>\n",
       "      <td>PAYMENT</td>\n",
       "      <td>11668.14</td>\n",
       "      <td>C2048537720</td>\n",
       "      <td>41554.0</td>\n",
       "      <td>29885.86</td>\n",
       "      <td>M1230701703</td>\n",
       "      <td>0.00</td>\n",
       "      <td>0.00</td>\n",
       "      <td>0</td>\n",
       "      <td>0.0</td>\n",
       "      <td>0</td>\n",
       "      <td>1</td>\n",
       "      <td>29885.86</td>\n",
       "      <td>11668.14</td>\n",
       "    </tr>\n",
       "    <tr>\n",
       "      <th>...</th>\n",
       "      <td>...</td>\n",
       "      <td>...</td>\n",
       "      <td>...</td>\n",
       "      <td>...</td>\n",
       "      <td>...</td>\n",
       "      <td>...</td>\n",
       "      <td>...</td>\n",
       "      <td>...</td>\n",
       "      <td>...</td>\n",
       "      <td>...</td>\n",
       "      <td>...</td>\n",
       "      <td>...</td>\n",
       "      <td>...</td>\n",
       "      <td>...</td>\n",
       "      <td>...</td>\n",
       "    </tr>\n",
       "    <tr>\n",
       "      <th>99995</th>\n",
       "      <td>10</td>\n",
       "      <td>PAYMENT</td>\n",
       "      <td>4020.66</td>\n",
       "      <td>C1410794718</td>\n",
       "      <td>20100.0</td>\n",
       "      <td>155908.34</td>\n",
       "      <td>M1257036576</td>\n",
       "      <td>0.00</td>\n",
       "      <td>0.00</td>\n",
       "      <td>0</td>\n",
       "      <td>0.0</td>\n",
       "      <td>1</td>\n",
       "      <td>1</td>\n",
       "      <td>16079.34</td>\n",
       "      <td>4020.66</td>\n",
       "    </tr>\n",
       "    <tr>\n",
       "      <th>99996</th>\n",
       "      <td>10</td>\n",
       "      <td>PAYMENT</td>\n",
       "      <td>18345.49</td>\n",
       "      <td>C744303677</td>\n",
       "      <td>20100.0</td>\n",
       "      <td>0.00</td>\n",
       "      <td>M1785344556</td>\n",
       "      <td>0.00</td>\n",
       "      <td>0.00</td>\n",
       "      <td>0</td>\n",
       "      <td>0.0</td>\n",
       "      <td>1</td>\n",
       "      <td>1</td>\n",
       "      <td>1754.51</td>\n",
       "      <td>18345.49</td>\n",
       "    </tr>\n",
       "    <tr>\n",
       "      <th>99997</th>\n",
       "      <td>10</td>\n",
       "      <td>CASH_IN</td>\n",
       "      <td>183774.91</td>\n",
       "      <td>C104331851</td>\n",
       "      <td>20100.0</td>\n",
       "      <td>222947.91</td>\n",
       "      <td>C36392889</td>\n",
       "      <td>54925.05</td>\n",
       "      <td>0.00</td>\n",
       "      <td>0</td>\n",
       "      <td>0.0</td>\n",
       "      <td>1</td>\n",
       "      <td>1</td>\n",
       "      <td>-163674.91</td>\n",
       "      <td>238699.96</td>\n",
       "    </tr>\n",
       "    <tr>\n",
       "      <th>99998</th>\n",
       "      <td>10</td>\n",
       "      <td>CASH_OUT</td>\n",
       "      <td>82237.17</td>\n",
       "      <td>C707662966</td>\n",
       "      <td>20100.0</td>\n",
       "      <td>0.00</td>\n",
       "      <td>C1553004158</td>\n",
       "      <td>592635.66</td>\n",
       "      <td>799140.46</td>\n",
       "      <td>0</td>\n",
       "      <td>0.0</td>\n",
       "      <td>1</td>\n",
       "      <td>1</td>\n",
       "      <td>-62137.17</td>\n",
       "      <td>674872.83</td>\n",
       "    </tr>\n",
       "    <tr>\n",
       "      <th>99999</th>\n",
       "      <td>10</td>\n",
       "      <td>PAYMENT</td>\n",
       "      <td>20096.56</td>\n",
       "      <td>C1868032458</td>\n",
       "      <td>20100.0</td>\n",
       "      <td>90020.44</td>\n",
       "      <td>M1419201886</td>\n",
       "      <td>0.00</td>\n",
       "      <td>0.00</td>\n",
       "      <td>0</td>\n",
       "      <td>0.0</td>\n",
       "      <td>1</td>\n",
       "      <td>1</td>\n",
       "      <td>3.44</td>\n",
       "      <td>20096.56</td>\n",
       "    </tr>\n",
       "  </tbody>\n",
       "</table>\n",
       "<p>100000 rows × 15 columns</p>\n",
       "</div>"
      ],
      "text/plain": [
       "       time transaction_type     amount     nameOrig  oldbalanceOrg  \\\n",
       "0         1          PAYMENT    9839.64  C1231006815       170136.0   \n",
       "1         1          PAYMENT    1864.28  C1666544295        21249.0   \n",
       "2         1         TRANSFER     181.00  C1305486145          181.0   \n",
       "3         1         CASH_OUT     181.00   C840083671          181.0   \n",
       "4         1          PAYMENT   11668.14  C2048537720        41554.0   \n",
       "...     ...              ...        ...          ...            ...   \n",
       "99995    10          PAYMENT    4020.66  C1410794718        20100.0   \n",
       "99996    10          PAYMENT   18345.49   C744303677        20100.0   \n",
       "99997    10          CASH_IN  183774.91   C104331851        20100.0   \n",
       "99998    10         CASH_OUT   82237.17   C707662966        20100.0   \n",
       "99999    10          PAYMENT   20096.56  C1868032458        20100.0   \n",
       "\n",
       "       newbalanceOrig     nameDest  oldbalanceDest  newbalanceDest  isFraud  \\\n",
       "0           160296.36  M1979787155            0.00            0.00        0   \n",
       "1            19384.72  M2044282225            0.00            0.00        0   \n",
       "2                0.00   C553264065            0.00            0.00        1   \n",
       "3                0.00    C38997010        21182.00            0.00        1   \n",
       "4            29885.86  M1230701703            0.00            0.00        0   \n",
       "...               ...          ...             ...             ...      ...   \n",
       "99995       155908.34  M1257036576            0.00            0.00        0   \n",
       "99996            0.00  M1785344556            0.00            0.00        0   \n",
       "99997       222947.91    C36392889        54925.05            0.00        0   \n",
       "99998            0.00  C1553004158       592635.66       799140.46        0   \n",
       "99999        90020.44  M1419201886            0.00            0.00        0   \n",
       "\n",
       "      isFlaggedFraud  error_orig  error_dest  newbalanceSender  \\\n",
       "0                0.0           0           1         160296.36   \n",
       "1                0.0           0           1          19384.72   \n",
       "2                0.0           0           1              0.00   \n",
       "3                0.0           0           1              0.00   \n",
       "4                0.0           0           1          29885.86   \n",
       "...              ...         ...         ...               ...   \n",
       "99995            0.0           1           1          16079.34   \n",
       "99996            0.0           1           1           1754.51   \n",
       "99997            0.0           1           1        -163674.91   \n",
       "99998            0.0           1           1         -62137.17   \n",
       "99999            0.0           1           1              3.44   \n",
       "\n",
       "       newbalanceReceiver  \n",
       "0                 9839.64  \n",
       "1                 1864.28  \n",
       "2                  181.00  \n",
       "3                21363.00  \n",
       "4                11668.14  \n",
       "...                   ...  \n",
       "99995             4020.66  \n",
       "99996            18345.49  \n",
       "99997           238699.96  \n",
       "99998           674872.83  \n",
       "99999            20096.56  \n",
       "\n",
       "[100000 rows x 15 columns]"
      ]
     },
     "execution_count": 19,
     "metadata": {},
     "output_type": "execute_result"
    }
   ],
   "source": [
    "df"
   ]
  },
  {
   "cell_type": "code",
   "execution_count": 20,
   "id": "999cc6ac",
   "metadata": {
    "colab": {
     "base_uri": "https://localhost:8080/"
    },
    "id": "999cc6ac",
    "outputId": "19277e58-df87-4a8a-83d4-bf45386f6ad5"
   },
   "outputs": [
    {
     "name": "stdout",
     "output_type": "stream",
     "text": [
      "       time transaction_type     amount     nameOrig  oldbalanceOrg  \\\n",
      "0         1          PAYMENT    9839.64  C1231006815       170136.0   \n",
      "1         1          PAYMENT    1864.28  C1666544295        21249.0   \n",
      "2         1         TRANSFER     181.00  C1305486145          181.0   \n",
      "3         1         CASH_OUT     181.00   C840083671          181.0   \n",
      "4         1          PAYMENT   11668.14  C2048537720        41554.0   \n",
      "...     ...              ...        ...          ...            ...   \n",
      "99995    10          PAYMENT    4020.66  C1410794718        20100.0   \n",
      "99996    10          PAYMENT   18345.49   C744303677        20100.0   \n",
      "99997    10          CASH_IN  183774.91   C104331851        20100.0   \n",
      "99998    10         CASH_OUT   82237.17   C707662966        20100.0   \n",
      "99999    10          PAYMENT   20096.56  C1868032458        20100.0   \n",
      "\n",
      "       newbalanceOrig     nameDest  oldbalanceDest  newbalanceDest  isFraud  \\\n",
      "0           160296.36  M1979787155            0.00            0.00        0   \n",
      "1            19384.72  M2044282225            0.00            0.00        0   \n",
      "2                0.00   C553264065            0.00            0.00        1   \n",
      "3                0.00    C38997010        21182.00            0.00        1   \n",
      "4            29885.86  M1230701703            0.00            0.00        0   \n",
      "...               ...          ...             ...             ...      ...   \n",
      "99995       155908.34  M1257036576            0.00            0.00        0   \n",
      "99996            0.00  M1785344556            0.00            0.00        0   \n",
      "99997       222947.91    C36392889        54925.05            0.00        0   \n",
      "99998            0.00  C1553004158       592635.66       799140.46        0   \n",
      "99999        90020.44  M1419201886            0.00            0.00        0   \n",
      "\n",
      "      isFlaggedFraud  error_orig  error_dest  newbalanceSender  \\\n",
      "0                0.0           0           1         160296.36   \n",
      "1                0.0           0           1          19384.72   \n",
      "2                0.0           0           1              0.00   \n",
      "3                0.0           0           1              0.00   \n",
      "4                0.0           0           1          29885.86   \n",
      "...              ...         ...         ...               ...   \n",
      "99995            0.0           1           1          16079.34   \n",
      "99996            0.0           1           1           1754.51   \n",
      "99997            0.0           1           1              0.00   \n",
      "99998            0.0           1           1              0.00   \n",
      "99999            0.0           1           1              3.44   \n",
      "\n",
      "       newbalanceReceiver  \n",
      "0                 9839.64  \n",
      "1                 1864.28  \n",
      "2                  181.00  \n",
      "3                21363.00  \n",
      "4                11668.14  \n",
      "...                   ...  \n",
      "99995             4020.66  \n",
      "99996            18345.49  \n",
      "99997           238699.96  \n",
      "99998           674872.83  \n",
      "99999            20096.56  \n",
      "\n",
      "[100000 rows x 15 columns]\n"
     ]
    }
   ],
   "source": [
    "# replace negative integers with zero using a lambda function\n",
    "\n",
    "df['newbalanceSender'] = df['newbalanceSender'].apply(lambda x: 0 if x < 0 else x)\n",
    "\n",
    "# print the updated DataFrame\n",
    "print(df)"
   ]
  },
  {
   "cell_type": "code",
   "execution_count": 21,
   "id": "8f658dea",
   "metadata": {
    "colab": {
     "base_uri": "https://localhost:8080/"
    },
    "id": "8f658dea",
    "outputId": "43b0e832-39d9-4822-fe52-d6614d8956c8"
   },
   "outputs": [
    {
     "name": "stdout",
     "output_type": "stream",
     "text": [
      "Are there any mismatch in the balance at origin and destination after transaction?\n",
      "Balance Error(%) at the Sender: 1    100.0\n",
      "Name: error_orig, dtype: float64\n",
      "Balance Error(%) at the Receiver: 0    100.0\n",
      "Name: error_dest, dtype: float64\n"
     ]
    }
   ],
   "source": [
    "# Rechecking for balance error.\n",
    "print(\"Are there any mismatch in the balance at origin and destination after transaction?\")\n",
    "df['error_orig'] = (df[\"oldbalanceOrg\"] - df[\"amount\"] <= df[\"newbalanceSender\"]).astype(int)\n",
    "df['error_dest'] = (df[\"oldbalanceDest\"] + df[\"amount\"] != df[\"newbalanceReceiver\"]).astype(int)\n",
    "\n",
    "print(\"Balance Error(%) at the Sender:\",round(df['error_orig'].value_counts()/df.shape[0] * 100,2))\n",
    "print(\"Balance Error(%) at the Receiver:\",round(df['error_dest'].value_counts()/df.shape[0] * 100,2))\n",
    "\n",
    "#print(\"Valid Balance(%) at the origin:\",round(data['error_orig'].value_counts()[0]/data.shape[0] * 100,2))\n",
    "#print(\"Valid Balance(%) at the dest:\",round(data['error_dest'].value_counts()[0]/data.shape[0] * 100,2))"
   ]
  },
  {
   "cell_type": "code",
   "execution_count": 22,
   "id": "de15d18e",
   "metadata": {
    "id": "de15d18e"
   },
   "outputs": [],
   "source": [
    "df = df.drop(['error_orig','error_dest'],axis = 1)"
   ]
  },
  {
   "cell_type": "code",
   "execution_count": 23,
   "id": "0343eb82",
   "metadata": {
    "colab": {
     "base_uri": "https://localhost:8080/",
     "height": 487
    },
    "id": "0343eb82",
    "outputId": "6d90bdd4-5c9a-402b-b77e-c3142e415ec3"
   },
   "outputs": [
    {
     "data": {
      "text/html": [
       "<div>\n",
       "<style scoped>\n",
       "    .dataframe tbody tr th:only-of-type {\n",
       "        vertical-align: middle;\n",
       "    }\n",
       "\n",
       "    .dataframe tbody tr th {\n",
       "        vertical-align: top;\n",
       "    }\n",
       "\n",
       "    .dataframe thead th {\n",
       "        text-align: right;\n",
       "    }\n",
       "</style>\n",
       "<table border=\"1\" class=\"dataframe\">\n",
       "  <thead>\n",
       "    <tr style=\"text-align: right;\">\n",
       "      <th></th>\n",
       "      <th>time</th>\n",
       "      <th>transaction_type</th>\n",
       "      <th>amount</th>\n",
       "      <th>nameOrig</th>\n",
       "      <th>oldbalanceOrg</th>\n",
       "      <th>newbalanceOrig</th>\n",
       "      <th>nameDest</th>\n",
       "      <th>oldbalanceDest</th>\n",
       "      <th>newbalanceDest</th>\n",
       "      <th>isFraud</th>\n",
       "      <th>isFlaggedFraud</th>\n",
       "      <th>newbalanceSender</th>\n",
       "      <th>newbalanceReceiver</th>\n",
       "    </tr>\n",
       "  </thead>\n",
       "  <tbody>\n",
       "    <tr>\n",
       "      <th>0</th>\n",
       "      <td>1</td>\n",
       "      <td>PAYMENT</td>\n",
       "      <td>9839.64</td>\n",
       "      <td>C1231006815</td>\n",
       "      <td>170136.0</td>\n",
       "      <td>160296.36</td>\n",
       "      <td>M1979787155</td>\n",
       "      <td>0.00</td>\n",
       "      <td>0.00</td>\n",
       "      <td>0</td>\n",
       "      <td>0.0</td>\n",
       "      <td>160296.36</td>\n",
       "      <td>9839.64</td>\n",
       "    </tr>\n",
       "    <tr>\n",
       "      <th>1</th>\n",
       "      <td>1</td>\n",
       "      <td>PAYMENT</td>\n",
       "      <td>1864.28</td>\n",
       "      <td>C1666544295</td>\n",
       "      <td>21249.0</td>\n",
       "      <td>19384.72</td>\n",
       "      <td>M2044282225</td>\n",
       "      <td>0.00</td>\n",
       "      <td>0.00</td>\n",
       "      <td>0</td>\n",
       "      <td>0.0</td>\n",
       "      <td>19384.72</td>\n",
       "      <td>1864.28</td>\n",
       "    </tr>\n",
       "    <tr>\n",
       "      <th>2</th>\n",
       "      <td>1</td>\n",
       "      <td>TRANSFER</td>\n",
       "      <td>181.00</td>\n",
       "      <td>C1305486145</td>\n",
       "      <td>181.0</td>\n",
       "      <td>0.00</td>\n",
       "      <td>C553264065</td>\n",
       "      <td>0.00</td>\n",
       "      <td>0.00</td>\n",
       "      <td>1</td>\n",
       "      <td>0.0</td>\n",
       "      <td>0.00</td>\n",
       "      <td>181.00</td>\n",
       "    </tr>\n",
       "    <tr>\n",
       "      <th>3</th>\n",
       "      <td>1</td>\n",
       "      <td>CASH_OUT</td>\n",
       "      <td>181.00</td>\n",
       "      <td>C840083671</td>\n",
       "      <td>181.0</td>\n",
       "      <td>0.00</td>\n",
       "      <td>C38997010</td>\n",
       "      <td>21182.00</td>\n",
       "      <td>0.00</td>\n",
       "      <td>1</td>\n",
       "      <td>0.0</td>\n",
       "      <td>0.00</td>\n",
       "      <td>21363.00</td>\n",
       "    </tr>\n",
       "    <tr>\n",
       "      <th>4</th>\n",
       "      <td>1</td>\n",
       "      <td>PAYMENT</td>\n",
       "      <td>11668.14</td>\n",
       "      <td>C2048537720</td>\n",
       "      <td>41554.0</td>\n",
       "      <td>29885.86</td>\n",
       "      <td>M1230701703</td>\n",
       "      <td>0.00</td>\n",
       "      <td>0.00</td>\n",
       "      <td>0</td>\n",
       "      <td>0.0</td>\n",
       "      <td>29885.86</td>\n",
       "      <td>11668.14</td>\n",
       "    </tr>\n",
       "    <tr>\n",
       "      <th>...</th>\n",
       "      <td>...</td>\n",
       "      <td>...</td>\n",
       "      <td>...</td>\n",
       "      <td>...</td>\n",
       "      <td>...</td>\n",
       "      <td>...</td>\n",
       "      <td>...</td>\n",
       "      <td>...</td>\n",
       "      <td>...</td>\n",
       "      <td>...</td>\n",
       "      <td>...</td>\n",
       "      <td>...</td>\n",
       "      <td>...</td>\n",
       "    </tr>\n",
       "    <tr>\n",
       "      <th>99995</th>\n",
       "      <td>10</td>\n",
       "      <td>PAYMENT</td>\n",
       "      <td>4020.66</td>\n",
       "      <td>C1410794718</td>\n",
       "      <td>20100.0</td>\n",
       "      <td>155908.34</td>\n",
       "      <td>M1257036576</td>\n",
       "      <td>0.00</td>\n",
       "      <td>0.00</td>\n",
       "      <td>0</td>\n",
       "      <td>0.0</td>\n",
       "      <td>16079.34</td>\n",
       "      <td>4020.66</td>\n",
       "    </tr>\n",
       "    <tr>\n",
       "      <th>99996</th>\n",
       "      <td>10</td>\n",
       "      <td>PAYMENT</td>\n",
       "      <td>18345.49</td>\n",
       "      <td>C744303677</td>\n",
       "      <td>20100.0</td>\n",
       "      <td>0.00</td>\n",
       "      <td>M1785344556</td>\n",
       "      <td>0.00</td>\n",
       "      <td>0.00</td>\n",
       "      <td>0</td>\n",
       "      <td>0.0</td>\n",
       "      <td>1754.51</td>\n",
       "      <td>18345.49</td>\n",
       "    </tr>\n",
       "    <tr>\n",
       "      <th>99997</th>\n",
       "      <td>10</td>\n",
       "      <td>CASH_IN</td>\n",
       "      <td>183774.91</td>\n",
       "      <td>C104331851</td>\n",
       "      <td>20100.0</td>\n",
       "      <td>222947.91</td>\n",
       "      <td>C36392889</td>\n",
       "      <td>54925.05</td>\n",
       "      <td>0.00</td>\n",
       "      <td>0</td>\n",
       "      <td>0.0</td>\n",
       "      <td>0.00</td>\n",
       "      <td>238699.96</td>\n",
       "    </tr>\n",
       "    <tr>\n",
       "      <th>99998</th>\n",
       "      <td>10</td>\n",
       "      <td>CASH_OUT</td>\n",
       "      <td>82237.17</td>\n",
       "      <td>C707662966</td>\n",
       "      <td>20100.0</td>\n",
       "      <td>0.00</td>\n",
       "      <td>C1553004158</td>\n",
       "      <td>592635.66</td>\n",
       "      <td>799140.46</td>\n",
       "      <td>0</td>\n",
       "      <td>0.0</td>\n",
       "      <td>0.00</td>\n",
       "      <td>674872.83</td>\n",
       "    </tr>\n",
       "    <tr>\n",
       "      <th>99999</th>\n",
       "      <td>10</td>\n",
       "      <td>PAYMENT</td>\n",
       "      <td>20096.56</td>\n",
       "      <td>C1868032458</td>\n",
       "      <td>20100.0</td>\n",
       "      <td>90020.44</td>\n",
       "      <td>M1419201886</td>\n",
       "      <td>0.00</td>\n",
       "      <td>0.00</td>\n",
       "      <td>0</td>\n",
       "      <td>0.0</td>\n",
       "      <td>3.44</td>\n",
       "      <td>20096.56</td>\n",
       "    </tr>\n",
       "  </tbody>\n",
       "</table>\n",
       "<p>100000 rows × 13 columns</p>\n",
       "</div>"
      ],
      "text/plain": [
       "       time transaction_type     amount     nameOrig  oldbalanceOrg  \\\n",
       "0         1          PAYMENT    9839.64  C1231006815       170136.0   \n",
       "1         1          PAYMENT    1864.28  C1666544295        21249.0   \n",
       "2         1         TRANSFER     181.00  C1305486145          181.0   \n",
       "3         1         CASH_OUT     181.00   C840083671          181.0   \n",
       "4         1          PAYMENT   11668.14  C2048537720        41554.0   \n",
       "...     ...              ...        ...          ...            ...   \n",
       "99995    10          PAYMENT    4020.66  C1410794718        20100.0   \n",
       "99996    10          PAYMENT   18345.49   C744303677        20100.0   \n",
       "99997    10          CASH_IN  183774.91   C104331851        20100.0   \n",
       "99998    10         CASH_OUT   82237.17   C707662966        20100.0   \n",
       "99999    10          PAYMENT   20096.56  C1868032458        20100.0   \n",
       "\n",
       "       newbalanceOrig     nameDest  oldbalanceDest  newbalanceDest  isFraud  \\\n",
       "0           160296.36  M1979787155            0.00            0.00        0   \n",
       "1            19384.72  M2044282225            0.00            0.00        0   \n",
       "2                0.00   C553264065            0.00            0.00        1   \n",
       "3                0.00    C38997010        21182.00            0.00        1   \n",
       "4            29885.86  M1230701703            0.00            0.00        0   \n",
       "...               ...          ...             ...             ...      ...   \n",
       "99995       155908.34  M1257036576            0.00            0.00        0   \n",
       "99996            0.00  M1785344556            0.00            0.00        0   \n",
       "99997       222947.91    C36392889        54925.05            0.00        0   \n",
       "99998            0.00  C1553004158       592635.66       799140.46        0   \n",
       "99999        90020.44  M1419201886            0.00            0.00        0   \n",
       "\n",
       "      isFlaggedFraud  newbalanceSender  newbalanceReceiver  \n",
       "0                0.0         160296.36             9839.64  \n",
       "1                0.0          19384.72             1864.28  \n",
       "2                0.0              0.00              181.00  \n",
       "3                0.0              0.00            21363.00  \n",
       "4                0.0          29885.86            11668.14  \n",
       "...              ...               ...                 ...  \n",
       "99995            0.0          16079.34             4020.66  \n",
       "99996            0.0           1754.51            18345.49  \n",
       "99997            0.0              0.00           238699.96  \n",
       "99998            0.0              0.00           674872.83  \n",
       "99999            0.0              3.44            20096.56  \n",
       "\n",
       "[100000 rows x 13 columns]"
      ]
     },
     "execution_count": 23,
     "metadata": {},
     "output_type": "execute_result"
    }
   ],
   "source": [
    "df"
   ]
  },
  {
   "cell_type": "code",
   "execution_count": 24,
   "id": "60737efd",
   "metadata": {
    "colab": {
     "base_uri": "https://localhost:8080/",
     "height": 423
    },
    "id": "60737efd",
    "outputId": "094272fa-aeda-46c4-f45d-2dfc2b40080d"
   },
   "outputs": [
    {
     "data": {
      "text/html": [
       "<div>\n",
       "<style scoped>\n",
       "    .dataframe tbody tr th:only-of-type {\n",
       "        vertical-align: middle;\n",
       "    }\n",
       "\n",
       "    .dataframe tbody tr th {\n",
       "        vertical-align: top;\n",
       "    }\n",
       "\n",
       "    .dataframe thead th {\n",
       "        text-align: right;\n",
       "    }\n",
       "</style>\n",
       "<table border=\"1\" class=\"dataframe\">\n",
       "  <thead>\n",
       "    <tr style=\"text-align: right;\">\n",
       "      <th></th>\n",
       "      <th>time</th>\n",
       "      <th>transaction_type</th>\n",
       "      <th>amount</th>\n",
       "      <th>oldbalanceOrg</th>\n",
       "      <th>oldbalanceDest</th>\n",
       "      <th>isFraud</th>\n",
       "      <th>newbalanceSender</th>\n",
       "      <th>newbalanceReceiver</th>\n",
       "    </tr>\n",
       "  </thead>\n",
       "  <tbody>\n",
       "    <tr>\n",
       "      <th>0</th>\n",
       "      <td>1</td>\n",
       "      <td>PAYMENT</td>\n",
       "      <td>9839.64</td>\n",
       "      <td>170136.0</td>\n",
       "      <td>0.00</td>\n",
       "      <td>0</td>\n",
       "      <td>160296.36</td>\n",
       "      <td>9839.64</td>\n",
       "    </tr>\n",
       "    <tr>\n",
       "      <th>1</th>\n",
       "      <td>1</td>\n",
       "      <td>PAYMENT</td>\n",
       "      <td>1864.28</td>\n",
       "      <td>21249.0</td>\n",
       "      <td>0.00</td>\n",
       "      <td>0</td>\n",
       "      <td>19384.72</td>\n",
       "      <td>1864.28</td>\n",
       "    </tr>\n",
       "    <tr>\n",
       "      <th>2</th>\n",
       "      <td>1</td>\n",
       "      <td>TRANSFER</td>\n",
       "      <td>181.00</td>\n",
       "      <td>181.0</td>\n",
       "      <td>0.00</td>\n",
       "      <td>1</td>\n",
       "      <td>0.00</td>\n",
       "      <td>181.00</td>\n",
       "    </tr>\n",
       "    <tr>\n",
       "      <th>3</th>\n",
       "      <td>1</td>\n",
       "      <td>CASH_OUT</td>\n",
       "      <td>181.00</td>\n",
       "      <td>181.0</td>\n",
       "      <td>21182.00</td>\n",
       "      <td>1</td>\n",
       "      <td>0.00</td>\n",
       "      <td>21363.00</td>\n",
       "    </tr>\n",
       "    <tr>\n",
       "      <th>4</th>\n",
       "      <td>1</td>\n",
       "      <td>PAYMENT</td>\n",
       "      <td>11668.14</td>\n",
       "      <td>41554.0</td>\n",
       "      <td>0.00</td>\n",
       "      <td>0</td>\n",
       "      <td>29885.86</td>\n",
       "      <td>11668.14</td>\n",
       "    </tr>\n",
       "    <tr>\n",
       "      <th>...</th>\n",
       "      <td>...</td>\n",
       "      <td>...</td>\n",
       "      <td>...</td>\n",
       "      <td>...</td>\n",
       "      <td>...</td>\n",
       "      <td>...</td>\n",
       "      <td>...</td>\n",
       "      <td>...</td>\n",
       "    </tr>\n",
       "    <tr>\n",
       "      <th>99995</th>\n",
       "      <td>10</td>\n",
       "      <td>PAYMENT</td>\n",
       "      <td>4020.66</td>\n",
       "      <td>20100.0</td>\n",
       "      <td>0.00</td>\n",
       "      <td>0</td>\n",
       "      <td>16079.34</td>\n",
       "      <td>4020.66</td>\n",
       "    </tr>\n",
       "    <tr>\n",
       "      <th>99996</th>\n",
       "      <td>10</td>\n",
       "      <td>PAYMENT</td>\n",
       "      <td>18345.49</td>\n",
       "      <td>20100.0</td>\n",
       "      <td>0.00</td>\n",
       "      <td>0</td>\n",
       "      <td>1754.51</td>\n",
       "      <td>18345.49</td>\n",
       "    </tr>\n",
       "    <tr>\n",
       "      <th>99997</th>\n",
       "      <td>10</td>\n",
       "      <td>CASH_IN</td>\n",
       "      <td>183774.91</td>\n",
       "      <td>20100.0</td>\n",
       "      <td>54925.05</td>\n",
       "      <td>0</td>\n",
       "      <td>0.00</td>\n",
       "      <td>238699.96</td>\n",
       "    </tr>\n",
       "    <tr>\n",
       "      <th>99998</th>\n",
       "      <td>10</td>\n",
       "      <td>CASH_OUT</td>\n",
       "      <td>82237.17</td>\n",
       "      <td>20100.0</td>\n",
       "      <td>592635.66</td>\n",
       "      <td>0</td>\n",
       "      <td>0.00</td>\n",
       "      <td>674872.83</td>\n",
       "    </tr>\n",
       "    <tr>\n",
       "      <th>99999</th>\n",
       "      <td>10</td>\n",
       "      <td>PAYMENT</td>\n",
       "      <td>20096.56</td>\n",
       "      <td>20100.0</td>\n",
       "      <td>0.00</td>\n",
       "      <td>0</td>\n",
       "      <td>3.44</td>\n",
       "      <td>20096.56</td>\n",
       "    </tr>\n",
       "  </tbody>\n",
       "</table>\n",
       "<p>100000 rows × 8 columns</p>\n",
       "</div>"
      ],
      "text/plain": [
       "       time transaction_type     amount  oldbalanceOrg  oldbalanceDest  \\\n",
       "0         1          PAYMENT    9839.64       170136.0            0.00   \n",
       "1         1          PAYMENT    1864.28        21249.0            0.00   \n",
       "2         1         TRANSFER     181.00          181.0            0.00   \n",
       "3         1         CASH_OUT     181.00          181.0        21182.00   \n",
       "4         1          PAYMENT   11668.14        41554.0            0.00   \n",
       "...     ...              ...        ...            ...             ...   \n",
       "99995    10          PAYMENT    4020.66        20100.0            0.00   \n",
       "99996    10          PAYMENT   18345.49        20100.0            0.00   \n",
       "99997    10          CASH_IN  183774.91        20100.0        54925.05   \n",
       "99998    10         CASH_OUT   82237.17        20100.0       592635.66   \n",
       "99999    10          PAYMENT   20096.56        20100.0            0.00   \n",
       "\n",
       "       isFraud  newbalanceSender  newbalanceReceiver  \n",
       "0            0         160296.36             9839.64  \n",
       "1            0          19384.72             1864.28  \n",
       "2            1              0.00              181.00  \n",
       "3            1              0.00            21363.00  \n",
       "4            0          29885.86            11668.14  \n",
       "...        ...               ...                 ...  \n",
       "99995        0          16079.34             4020.66  \n",
       "99996        0           1754.51            18345.49  \n",
       "99997        0              0.00           238699.96  \n",
       "99998        0              0.00           674872.83  \n",
       "99999        0              3.44            20096.56  \n",
       "\n",
       "[100000 rows x 8 columns]"
      ]
     },
     "execution_count": 24,
     "metadata": {},
     "output_type": "execute_result"
    }
   ],
   "source": [
    "# Using drop function and removing unwanted column \n",
    "df = df.drop(['nameOrig','newbalanceOrig','nameDest','newbalanceDest','isFlaggedFraud'], axis=1)\n",
    "df"
   ]
  },
  {
   "cell_type": "code",
   "execution_count": 25,
   "id": "27c7825d",
   "metadata": {
    "colab": {
     "base_uri": "https://localhost:8080/",
     "height": 423
    },
    "id": "27c7825d",
    "outputId": "80cd56ef-7329-456e-fd5e-acbb716d7654"
   },
   "outputs": [
    {
     "data": {
      "text/html": [
       "<div>\n",
       "<style scoped>\n",
       "    .dataframe tbody tr th:only-of-type {\n",
       "        vertical-align: middle;\n",
       "    }\n",
       "\n",
       "    .dataframe tbody tr th {\n",
       "        vertical-align: top;\n",
       "    }\n",
       "\n",
       "    .dataframe thead th {\n",
       "        text-align: right;\n",
       "    }\n",
       "</style>\n",
       "<table border=\"1\" class=\"dataframe\">\n",
       "  <thead>\n",
       "    <tr style=\"text-align: right;\">\n",
       "      <th></th>\n",
       "      <th>time</th>\n",
       "      <th>transaction_type</th>\n",
       "      <th>amount</th>\n",
       "      <th>oldbalanceOrg</th>\n",
       "      <th>newbalanceOrg</th>\n",
       "      <th>oldbalanceDest</th>\n",
       "      <th>newbalanceDest</th>\n",
       "      <th>isFraud</th>\n",
       "    </tr>\n",
       "  </thead>\n",
       "  <tbody>\n",
       "    <tr>\n",
       "      <th>0</th>\n",
       "      <td>1</td>\n",
       "      <td>PAYMENT</td>\n",
       "      <td>9839.64</td>\n",
       "      <td>170136.0</td>\n",
       "      <td>160296.36</td>\n",
       "      <td>0.00</td>\n",
       "      <td>9839.64</td>\n",
       "      <td>0</td>\n",
       "    </tr>\n",
       "    <tr>\n",
       "      <th>1</th>\n",
       "      <td>1</td>\n",
       "      <td>PAYMENT</td>\n",
       "      <td>1864.28</td>\n",
       "      <td>21249.0</td>\n",
       "      <td>19384.72</td>\n",
       "      <td>0.00</td>\n",
       "      <td>1864.28</td>\n",
       "      <td>0</td>\n",
       "    </tr>\n",
       "    <tr>\n",
       "      <th>2</th>\n",
       "      <td>1</td>\n",
       "      <td>TRANSFER</td>\n",
       "      <td>181.00</td>\n",
       "      <td>181.0</td>\n",
       "      <td>0.00</td>\n",
       "      <td>0.00</td>\n",
       "      <td>181.00</td>\n",
       "      <td>1</td>\n",
       "    </tr>\n",
       "    <tr>\n",
       "      <th>3</th>\n",
       "      <td>1</td>\n",
       "      <td>CASH_OUT</td>\n",
       "      <td>181.00</td>\n",
       "      <td>181.0</td>\n",
       "      <td>0.00</td>\n",
       "      <td>21182.00</td>\n",
       "      <td>21363.00</td>\n",
       "      <td>1</td>\n",
       "    </tr>\n",
       "    <tr>\n",
       "      <th>4</th>\n",
       "      <td>1</td>\n",
       "      <td>PAYMENT</td>\n",
       "      <td>11668.14</td>\n",
       "      <td>41554.0</td>\n",
       "      <td>29885.86</td>\n",
       "      <td>0.00</td>\n",
       "      <td>11668.14</td>\n",
       "      <td>0</td>\n",
       "    </tr>\n",
       "    <tr>\n",
       "      <th>...</th>\n",
       "      <td>...</td>\n",
       "      <td>...</td>\n",
       "      <td>...</td>\n",
       "      <td>...</td>\n",
       "      <td>...</td>\n",
       "      <td>...</td>\n",
       "      <td>...</td>\n",
       "      <td>...</td>\n",
       "    </tr>\n",
       "    <tr>\n",
       "      <th>99995</th>\n",
       "      <td>10</td>\n",
       "      <td>PAYMENT</td>\n",
       "      <td>4020.66</td>\n",
       "      <td>20100.0</td>\n",
       "      <td>16079.34</td>\n",
       "      <td>0.00</td>\n",
       "      <td>4020.66</td>\n",
       "      <td>0</td>\n",
       "    </tr>\n",
       "    <tr>\n",
       "      <th>99996</th>\n",
       "      <td>10</td>\n",
       "      <td>PAYMENT</td>\n",
       "      <td>18345.49</td>\n",
       "      <td>20100.0</td>\n",
       "      <td>1754.51</td>\n",
       "      <td>0.00</td>\n",
       "      <td>18345.49</td>\n",
       "      <td>0</td>\n",
       "    </tr>\n",
       "    <tr>\n",
       "      <th>99997</th>\n",
       "      <td>10</td>\n",
       "      <td>CASH_IN</td>\n",
       "      <td>183774.91</td>\n",
       "      <td>20100.0</td>\n",
       "      <td>0.00</td>\n",
       "      <td>54925.05</td>\n",
       "      <td>238699.96</td>\n",
       "      <td>0</td>\n",
       "    </tr>\n",
       "    <tr>\n",
       "      <th>99998</th>\n",
       "      <td>10</td>\n",
       "      <td>CASH_OUT</td>\n",
       "      <td>82237.17</td>\n",
       "      <td>20100.0</td>\n",
       "      <td>0.00</td>\n",
       "      <td>592635.66</td>\n",
       "      <td>674872.83</td>\n",
       "      <td>0</td>\n",
       "    </tr>\n",
       "    <tr>\n",
       "      <th>99999</th>\n",
       "      <td>10</td>\n",
       "      <td>PAYMENT</td>\n",
       "      <td>20096.56</td>\n",
       "      <td>20100.0</td>\n",
       "      <td>3.44</td>\n",
       "      <td>0.00</td>\n",
       "      <td>20096.56</td>\n",
       "      <td>0</td>\n",
       "    </tr>\n",
       "  </tbody>\n",
       "</table>\n",
       "<p>100000 rows × 8 columns</p>\n",
       "</div>"
      ],
      "text/plain": [
       "       time transaction_type     amount  oldbalanceOrg  newbalanceOrg  \\\n",
       "0         1          PAYMENT    9839.64       170136.0      160296.36   \n",
       "1         1          PAYMENT    1864.28        21249.0       19384.72   \n",
       "2         1         TRANSFER     181.00          181.0           0.00   \n",
       "3         1         CASH_OUT     181.00          181.0           0.00   \n",
       "4         1          PAYMENT   11668.14        41554.0       29885.86   \n",
       "...     ...              ...        ...            ...            ...   \n",
       "99995    10          PAYMENT    4020.66        20100.0       16079.34   \n",
       "99996    10          PAYMENT   18345.49        20100.0        1754.51   \n",
       "99997    10          CASH_IN  183774.91        20100.0           0.00   \n",
       "99998    10         CASH_OUT   82237.17        20100.0           0.00   \n",
       "99999    10          PAYMENT   20096.56        20100.0           3.44   \n",
       "\n",
       "       oldbalanceDest  newbalanceDest  isFraud  \n",
       "0                0.00         9839.64        0  \n",
       "1                0.00         1864.28        0  \n",
       "2                0.00          181.00        1  \n",
       "3            21182.00        21363.00        1  \n",
       "4                0.00        11668.14        0  \n",
       "...               ...             ...      ...  \n",
       "99995            0.00         4020.66        0  \n",
       "99996            0.00        18345.49        0  \n",
       "99997        54925.05       238699.96        0  \n",
       "99998       592635.66       674872.83        0  \n",
       "99999            0.00        20096.56        0  \n",
       "\n",
       "[100000 rows x 8 columns]"
      ]
     },
     "execution_count": 25,
     "metadata": {},
     "output_type": "execute_result"
    }
   ],
   "source": [
    "df = df.rename(columns={'newbalanceSender': 'newbalanceOrg', 'newbalanceReceiver': 'newbalanceDest'})\n",
    "df = df[['time','transaction_type','amount','oldbalanceOrg','newbalanceOrg','oldbalanceDest','newbalanceDest','isFraud']]\n",
    "df"
   ]
  },
  {
   "cell_type": "code",
   "execution_count": 61,
   "id": "4dfcf6a7",
   "metadata": {},
   "outputs": [
    {
     "data": {
      "text/plain": [
       "PAYMENT     39512\n",
       "CASH_OUT    30718\n",
       "CASH_IN     20185\n",
       "TRANSFER     8597\n",
       "DEBIT         988\n",
       "Name: transaction_type, dtype: int64"
      ]
     },
     "execution_count": 61,
     "metadata": {},
     "output_type": "execute_result"
    }
   ],
   "source": [
    "df['transaction_type'].value_counts()"
   ]
  },
  {
   "cell_type": "code",
   "execution_count": 26,
   "id": "a38a049e",
   "metadata": {
    "colab": {
     "base_uri": "https://localhost:8080/"
    },
    "id": "a38a049e",
    "outputId": "76698826-cb7c-472b-a7ee-c5ec2116d71a"
   },
   "outputs": [
    {
     "data": {
      "text/plain": [
       "173602.2217641003"
      ]
     },
     "execution_count": 26,
     "metadata": {},
     "output_type": "execute_result"
    }
   ],
   "source": [
    "# we are considering the amount column to calculate 'first moment of business decision'\n",
    "df['amount'].mean() # from mean value we can observe that the average transaction done in the given time peroid is \"173602.22\""
   ]
  },
  {
   "cell_type": "code",
   "execution_count": 27,
   "id": "3dd9052b",
   "metadata": {
    "colab": {
     "base_uri": "https://localhost:8080/"
    },
    "id": "3dd9052b",
    "outputId": "5eaada75-eca9-4d9c-c6d5-22282db1ffe9"
   },
   "outputs": [
    {
     "data": {
      "text/plain": [
       "829819.244094503"
      ]
     },
     "execution_count": 27,
     "metadata": {},
     "output_type": "execute_result"
    }
   ],
   "source": [
    "df['newbalanceOrg'].mean() # from mean value we can observe that the average account balance maintained by the customer in the given time peroid is \"894061.91\""
   ]
  },
  {
   "cell_type": "code",
   "execution_count": 28,
   "id": "7cd26fd5",
   "metadata": {
    "colab": {
     "base_uri": "https://localhost:8080/"
    },
    "id": "7cd26fd5",
    "outputId": "2210420a-caca-4e20-818a-1f5736be56d6"
   },
   "outputs": [
    {
     "data": {
      "text/plain": [
       "0     2475.13\n",
       "1     6285.19\n",
       "2    17320.91\n",
       "3    25975.86\n",
       "4    29707.86\n",
       "5    89631.24\n",
       "Name: amount, dtype: float64"
      ]
     },
     "execution_count": 28,
     "metadata": {},
     "output_type": "execute_result"
    }
   ],
   "source": [
    "df['amount'].mode() # from mode value we can say that the most frequent transaction amount is 2475"
   ]
  },
  {
   "cell_type": "raw",
   "id": "854db2f6",
   "metadata": {
    "id": "854db2f6"
   },
   "source": [
    "# we are considering the amount column to calculate 'second moment of business decision'"
   ]
  },
  {
   "cell_type": "code",
   "execution_count": 29,
   "id": "2958c622",
   "metadata": {
    "colab": {
     "base_uri": "https://localhost:8080/"
    },
    "id": "2958c622",
    "outputId": "e64a20cc-3af7-4343-e832-5490c5f92192"
   },
   "outputs": [
    {
     "data": {
      "text/plain": [
       "118542710414.3486"
      ]
     },
     "execution_count": 29,
     "metadata": {},
     "output_type": "execute_result"
    }
   ],
   "source": [
    "\n",
    "df['amount'].var()"
   ]
  },
  {
   "cell_type": "code",
   "execution_count": 30,
   "id": "17b0d34a",
   "metadata": {
    "colab": {
     "base_uri": "https://localhost:8080/"
    },
    "id": "17b0d34a",
    "outputId": "d3707b80-aed8-48e9-d0e1-12665c84c06b"
   },
   "outputs": [
    {
     "data": {
      "text/plain": [
       "344300.3200903952"
      ]
     },
     "execution_count": 30,
     "metadata": {},
     "output_type": "execute_result"
    }
   ],
   "source": [
    "df['amount'].std() "
   ]
  },
  {
   "cell_type": "raw",
   "id": "ba3e01b6",
   "metadata": {
    "id": "ba3e01b6"
   },
   "source": [
    "# The standard deviation of 344300 suggests that there may be some outliers or anomalies in the data that are driving the high variability in transaction amounts"
   ]
  },
  {
   "cell_type": "raw",
   "id": "deb54a8e",
   "metadata": {
    "id": "deb54a8e"
   },
   "source": [
    "# we are considering the amount column to calculate 'Third moment of business decision'(skewness)"
   ]
  },
  {
   "cell_type": "code",
   "execution_count": 31,
   "id": "50489745",
   "metadata": {
    "colab": {
     "base_uri": "https://localhost:8080/"
    },
    "id": "50489745",
    "outputId": "22db5c28-70cc-4723-ec27-16cbb792f8a4"
   },
   "outputs": [
    {
     "data": {
      "text/plain": [
       "5.428317054388887"
      ]
     },
     "execution_count": 31,
     "metadata": {},
     "output_type": "execute_result"
    }
   ],
   "source": [
    "df['amount'].skew()"
   ]
  },
  {
   "cell_type": "raw",
   "id": "a86ea2f4",
   "metadata": {
    "id": "a86ea2f4"
   },
   "source": [
    "# the skewness of transaction amounts is 5 \n",
    "# this indicates that the distribution of transaction amounts is highly skewed to the right, with a long tail of high values.  # # The mean transaction amount is likely to be much higher than the median transaction amount, and there may be a small number of   transactions that are significantly higher than the majority."
   ]
  },
  {
   "cell_type": "code",
   "execution_count": 32,
   "id": "30bc0d73",
   "metadata": {
    "colab": {
     "base_uri": "https://localhost:8080/"
    },
    "id": "30bc0d73",
    "outputId": "ac62aaa8-e48b-4827-e0d9-5d18564a4ad9"
   },
   "outputs": [
    {
     "data": {
      "text/plain": [
       "4.958011018655087"
      ]
     },
     "execution_count": 32,
     "metadata": {},
     "output_type": "execute_result"
    }
   ],
   "source": [
    "df['oldbalanceOrg'].skew()"
   ]
  },
  {
   "cell_type": "code",
   "execution_count": 33,
   "id": "fd07538b",
   "metadata": {
    "colab": {
     "base_uri": "https://localhost:8080/"
    },
    "id": "fd07538b",
    "outputId": "63854501-2395-400c-8996-961840038827"
   },
   "outputs": [
    {
     "data": {
      "text/plain": [
       "5.044601308743025"
      ]
     },
     "execution_count": 33,
     "metadata": {},
     "output_type": "execute_result"
    }
   ],
   "source": [
    "df['newbalanceOrg'].skew()"
   ]
  },
  {
   "cell_type": "code",
   "execution_count": 34,
   "id": "afa4ffe6",
   "metadata": {
    "colab": {
     "base_uri": "https://localhost:8080/"
    },
    "id": "afa4ffe6",
    "outputId": "d7b8ab25-34cc-4815-f1c5-e5eb3ce13672"
   },
   "outputs": [
    {
     "data": {
      "text/plain": [
       "5.058239113292946"
      ]
     },
     "execution_count": 34,
     "metadata": {},
     "output_type": "execute_result"
    }
   ],
   "source": [
    "df['oldbalanceDest'].skew()"
   ]
  },
  {
   "cell_type": "code",
   "execution_count": 35,
   "id": "37ac464e",
   "metadata": {
    "colab": {
     "base_uri": "https://localhost:8080/"
    },
    "id": "37ac464e",
    "outputId": "b5f13b4c-7c73-4ef6-b5ef-efd9110c926f"
   },
   "outputs": [
    {
     "data": {
      "text/plain": [
       "4.766103618185673"
      ]
     },
     "execution_count": 35,
     "metadata": {},
     "output_type": "execute_result"
    }
   ],
   "source": [
    "df['newbalanceDest'].skew()"
   ]
  },
  {
   "cell_type": "raw",
   "id": "800941a6",
   "metadata": {
    "id": "800941a6"
   },
   "source": [
    "# from above observations\n",
    "# the skewness of 'oldbalanceOrg', 'newbalanceOrig', 'oldbalanceDest' , 'newbalanceDest' is above 4\n",
    "# this indicates that the distribution of transaction amounts is highly skewed to the right, with a long tail of high values.  # # The mean transaction amount is likely to be much higher than the median transaction amount, and there may be a small number of   transactions that are significantly higher than the majority."
   ]
  },
  {
   "cell_type": "raw",
   "id": "4373cbe5",
   "metadata": {
    "id": "4373cbe5"
   },
   "source": [
    "# we are considering the amount column to calculate 'Fourth moment of business decision'(kurtosis)"
   ]
  },
  {
   "cell_type": "code",
   "execution_count": 36,
   "id": "ae5bea3d",
   "metadata": {
    "colab": {
     "base_uri": "https://localhost:8080/"
    },
    "id": "ae5bea3d",
    "outputId": "868b1484-f423-4c61-954f-89f14805b5b0"
   },
   "outputs": [
    {
     "data": {
      "text/plain": [
       "48.099032542272205"
      ]
     },
     "execution_count": 36,
     "metadata": {},
     "output_type": "execute_result"
    }
   ],
   "source": [
    "df['amount'].kurt()"
   ]
  },
  {
   "cell_type": "raw",
   "id": "58fd4a77",
   "metadata": {
    "id": "58fd4a77"
   },
   "source": [
    "# kurtosis of transaction amounts is 48, this indicates that the distribution of transaction amounts has very heavy tails, with an excess of high-value transactions compared to a normal distribution\n",
    "# The heavy tails and peakedness may also indicate a more  unpredictable transaction environment, with the potential for sudden large transactions or unexpected shifts in transaction behavior."
   ]
  },
  {
   "cell_type": "code",
   "execution_count": 37,
   "id": "fc45120e",
   "metadata": {
    "colab": {
     "base_uri": "https://localhost:8080/"
    },
    "id": "fc45120e",
    "outputId": "3f7a8aef-06f3-43e9-ca5e-55b060d0ddc3"
   },
   "outputs": [
    {
     "data": {
      "text/plain": [
       "31.579922448346124"
      ]
     },
     "execution_count": 37,
     "metadata": {},
     "output_type": "execute_result"
    }
   ],
   "source": [
    "df['oldbalanceOrg'].kurt()"
   ]
  },
  {
   "cell_type": "code",
   "execution_count": 38,
   "id": "e5c754ee",
   "metadata": {
    "colab": {
     "base_uri": "https://localhost:8080/"
    },
    "id": "e5c754ee",
    "outputId": "9cede47d-1101-43de-b51c-f02e658589ff"
   },
   "outputs": [
    {
     "data": {
      "text/plain": [
       "32.61692981834776"
      ]
     },
     "execution_count": 38,
     "metadata": {},
     "output_type": "execute_result"
    }
   ],
   "source": [
    "df['newbalanceOrg'].kurt()"
   ]
  },
  {
   "cell_type": "code",
   "execution_count": 39,
   "id": "d878434e",
   "metadata": {
    "colab": {
     "base_uri": "https://localhost:8080/"
    },
    "id": "d878434e",
    "outputId": "408deb87-13fb-4e0d-a040-33763a31f7f0"
   },
   "outputs": [
    {
     "data": {
      "text/plain": [
       "32.49320051675001"
      ]
     },
     "execution_count": 39,
     "metadata": {},
     "output_type": "execute_result"
    }
   ],
   "source": [
    "df['oldbalanceDest'].kurt()"
   ]
  },
  {
   "cell_type": "code",
   "execution_count": 40,
   "id": "b24800b8",
   "metadata": {
    "colab": {
     "base_uri": "https://localhost:8080/"
    },
    "id": "b24800b8",
    "outputId": "65d0d4f9-232e-43ce-ad9b-d00a79ba9dea"
   },
   "outputs": [
    {
     "data": {
      "text/plain": [
       "29.197519905485514"
      ]
     },
     "execution_count": 40,
     "metadata": {},
     "output_type": "execute_result"
    }
   ],
   "source": [
    "df['newbalanceDest'].kurt()"
   ]
  },
  {
   "cell_type": "raw",
   "id": "ebebb9c9",
   "metadata": {
    "id": "ebebb9c9"
   },
   "source": [
    "# kurtosis of'oldbalanceOrg', 'newbalanceOrig', 'oldbalanceDest' , 'newbalanceDest' above 23, this indicates that the distribution of transaction amounts has very heavy tails, with an excess of high-value transactions compared to a normal distribution\n",
    "# The moderate degree of peakedness and heavy tails may also indicate a transaction environment that is somewhat volatile or unpredictable. Businesses should be prepared to adapt to changes in transaction behavior and have contingency plans in place to manage any unexpected disruptions to transaction volumes"
   ]
  },
  {
   "cell_type": "raw",
   "id": "9e9b2fee",
   "metadata": {
    "id": "9e9b2fee"
   },
   "source": [
    "# graphical representation"
   ]
  },
  {
   "cell_type": "code",
   "execution_count": 41,
   "id": "4f482ce7",
   "metadata": {
    "colab": {
     "base_uri": "https://localhost:8080/",
     "height": 293
    },
    "id": "4f482ce7",
    "outputId": "265683bb-6f2b-4c9c-ee60-92778e4f83f5"
   },
   "outputs": [
    {
     "data": {
      "text/plain": [
       "<AxesSubplot:>"
      ]
     },
     "execution_count": 41,
     "metadata": {},
     "output_type": "execute_result"
    },
    {
     "data": {
      "image/png": "[encoded data removed]",
      "text/plain": [
       "<Figure size 640x480 with 1 Axes>"
      ]
     },
     "metadata": {},
     "output_type": "display_data"
    }
   ],
   "source": [
    "# creating box plot to check outliers\n",
    "df[['amount','oldbalanceOrg','newbalanceOrg','oldbalanceDest','newbalanceDest']].plot(kind='box')"
   ]
  },
  {
   "cell_type": "raw",
   "id": "953130c5",
   "metadata": {
    "id": "953130c5"
   },
   "source": [
    "# as we can see there are so many outliers in the aboce boxplots of 'amount','oldbalanceOrg','newbalanceOrig','oldbalanceDest','newbalanceDest' we need not treat them as they are dependent variables for prediction the transaction is fraud or not "
   ]
  },
  {
   "cell_type": "code",
   "execution_count": 42,
   "id": "dd9f321d",
   "metadata": {
    "colab": {
     "base_uri": "https://localhost:8080/",
     "height": 420
    },
    "id": "dd9f321d",
    "outputId": "966f9723-3cd0-4557-f410-a99e1330a22f"
   },
   "outputs": [
    {
     "data": {
      "text/plain": [
       "array([[<AxesSubplot:title={'center':'time'}>,\n",
       "        <AxesSubplot:title={'center':'amount'}>,\n",
       "        <AxesSubplot:title={'center':'oldbalanceOrg'}>],\n",
       "       [<AxesSubplot:title={'center':'newbalanceOrg'}>,\n",
       "        <AxesSubplot:title={'center':'oldbalanceDest'}>,\n",
       "        <AxesSubplot:title={'center':'newbalanceDest'}>],\n",
       "       [<AxesSubplot:title={'center':'isFraud'}>, <AxesSubplot:>,\n",
       "        <AxesSubplot:>]], dtype=object)"
      ]
     },
     "execution_count": 42,
     "metadata": {},
     "output_type": "execute_result"
    },
    {
     "data": {
      "image/png": "[encoded data removed]",
      "text/plain": [
       "<Figure size 640x480 with 9 Axes>"
      ]
     },
     "metadata": {},
     "output_type": "display_data"
    }
   ],
   "source": [
    "df.hist()"
   ]
  },
  {
   "cell_type": "code",
   "execution_count": 43,
   "id": "60d02b3e",
   "metadata": {
    "colab": {
     "base_uri": "https://localhost:8080/",
     "height": 264
    },
    "id": "60d02b3e",
    "outputId": "a8774c1b-4bb8-4427-ee2f-75a504de9cc5"
   },
   "outputs": [
    {
     "data": {
      "image/png": "[encoded data removed]",
      "text/plain": [
       "<Figure size 640x480 with 1 Axes>"
      ]
     },
     "metadata": {},
     "output_type": "display_data"
    }
   ],
   "source": [
    "import matplotlib.pyplot as plt\n",
    "features_object = ['transaction_type']\n",
    "for column_name in features_object:\n",
    "    column_data = df[column_name]\n",
    "    value_counts = column_data.value_counts()\n",
    "    plt.pie(value_counts.values, labels=value_counts.index, autopct='%1.1f%%')\n",
    "    plt.title(f'Pie Chart of {column_name}')\n",
    "    plt.show()"
   ]
  },
  {
   "cell_type": "code",
   "execution_count": 44,
   "id": "679d593d",
   "metadata": {
    "colab": {
     "base_uri": "https://localhost:8080/"
    },
    "id": "679d593d",
    "outputId": "9e117184-76ae-45c3-a2d0-a5797eb0e9d5"
   },
   "outputs": [
    {
     "data": {
      "text/plain": [
       "transaction_type\n",
       "CASH_IN       5\n",
       "CASH_OUT    165\n",
       "DEBIT        11\n",
       "PAYMENT     145\n",
       "TRANSFER     89\n",
       "Name: isFraud, dtype: int64"
      ]
     },
     "execution_count": 44,
     "metadata": {},
     "output_type": "execute_result"
    }
   ],
   "source": [
    "df.groupby('transaction_type')['isFraud'].sum()"
   ]
  },
  {
   "cell_type": "code",
   "execution_count": 45,
   "id": "0a3c51f8",
   "metadata": {
    "colab": {
     "base_uri": "https://localhost:8080/",
     "height": 577
    },
    "id": "0a3c51f8",
    "outputId": "b01673b1-012b-4de5-ba5b-955ec4c55caf"
   },
   "outputs": [
    {
     "data": {
      "image/png": "[encoded data removed]",
      "text/plain": [
       "<Figure size 1000x800 with 1 Axes>"
      ]
     },
     "metadata": {},
     "output_type": "display_data"
    }
   ],
   "source": [
    "import matplotlib.pyplot as plt\n",
    "plt.figure(figsize=(10,8))\n",
    "ax = df.groupby(['transaction_type','isFraud']).size().plot(kind='bar')\n",
    "\n",
    "for p in ax.patches:\n",
    "    ax.annotate(str(format(int(p.get_height()), ',d')), (p.get_x(), p.get_height()*1.01))\n",
    "plt.title(\"Fradulent Transactions\")\n",
    "plt.xlabel(\"Transaction Type\")\n",
    "plt.yticks([])\n",
    "#plt.xticks([' Valid CashOut','Fraud CashOut','Valid Transfer','Fraud Transfer'])\n",
    "plt.xticks(rotation=90)\n",
    "plt.show()"
   ]
  },
  {
   "cell_type": "raw",
   "id": "18956a64",
   "metadata": {
    "id": "18956a64"
   },
   "source": [
    "# From above we have removed the balance error which occured previously "
   ]
  },
  {
   "cell_type": "raw",
   "id": "818d71f9",
   "metadata": {
    "id": "818d71f9"
   },
   "source": [
    "# convert step into time\n",
    "Each step is cnoverted into 1 hour. Set arbitrary start time "
   ]
  },
  {
   "cell_type": "code",
   "execution_count": 46,
   "id": "7ff2f62b",
   "metadata": {
    "colab": {
     "base_uri": "https://localhost:8080/"
    },
    "id": "7ff2f62b",
    "outputId": "2e1403f7-7db2-4b6f-95e3-8b9e46632968"
   },
   "outputs": [
    {
     "data": {
      "text/plain": [
       "71715   2022-01-01 09:00:00\n",
       "79682   2022-01-01 10:00:00\n",
       "60489   2022-01-01 09:00:00\n",
       "54355   2022-01-01 09:00:00\n",
       "6919    2022-01-01 06:00:00\n",
       "64681   2022-01-01 09:00:00\n",
       "93840   2022-01-01 10:00:00\n",
       "36736   2022-01-01 09:00:00\n",
       "62921   2022-01-01 09:00:00\n",
       "38304   2022-01-01 09:00:00\n",
       "Name: time, dtype: datetime64[ns]"
      ]
     },
     "execution_count": 46,
     "metadata": {},
     "output_type": "execute_result"
    }
   ],
   "source": [
    "df['time'] = pd.to_datetime(\"01/01/2022\") + pd.to_timedelta(df['time'], unit='h')\n",
    "df['time'].sample(10)"
   ]
  },
  {
   "cell_type": "code",
   "execution_count": 47,
   "id": "623c7c61",
   "metadata": {
    "colab": {
     "base_uri": "https://localhost:8080/"
    },
    "id": "623c7c61",
    "outputId": "36c8d1f7-b408-41a8-c638-6a95e5f72ff0"
   },
   "outputs": [
    {
     "name": "stdout",
     "output_type": "stream",
     "text": [
      "<class 'pandas.core.frame.DataFrame'>\n",
      "RangeIndex: 100000 entries, 0 to 99999\n",
      "Data columns (total 8 columns):\n",
      " #   Column            Non-Null Count   Dtype   \n",
      "---  ------            --------------   -----   \n",
      " 0   time              100000 non-null  category\n",
      " 1   transaction_type  100000 non-null  object  \n",
      " 2   amount            100000 non-null  float64 \n",
      " 3   oldbalanceOrg     100000 non-null  float64 \n",
      " 4   newbalanceOrg     100000 non-null  float64 \n",
      " 5   oldbalanceDest    100000 non-null  float64 \n",
      " 6   newbalanceDest    100000 non-null  float64 \n",
      " 7   isFraud           100000 non-null  int64   \n",
      "dtypes: category(1), float64(5), int64(1), object(1)\n",
      "memory usage: 5.4+ MB\n"
     ]
    }
   ],
   "source": [
    "# create new column to get morning, afternoon, evening, or night\n",
    "df['time'] = pd.cut(df['time'].dt.hour,\n",
    "                        bins=[0, 6, 12, 18, 24], \n",
    "                        labels = ['night','morning','afternoon','evening'],\n",
    "                        include_lowest = True)\n",
    "df.info()"
   ]
  },
  {
   "cell_type": "code",
   "execution_count": 48,
   "id": "c25140fa",
   "metadata": {
    "colab": {
     "base_uri": "https://localhost:8080/",
     "height": 264
    },
    "id": "c25140fa",
    "outputId": "a94a3ae0-9db8-41bf-dfe8-9d8d4881b058"
   },
   "outputs": [
    {
     "data": {
      "image/png": "[encoded data removed]",
      "text/plain": [
       "<Figure size 640x480 with 1 Axes>"
      ]
     },
     "metadata": {},
     "output_type": "display_data"
    }
   ],
   "source": [
    "features_object = ['time']\n",
    "for column_name in features_object:\n",
    "    column_data = df[column_name]\n",
    "    value_counts = column_data.value_counts()\n",
    "    plt.pie(value_counts.values, labels=value_counts.index, autopct='%1.1f%%')\n",
    "    plt.title(f'Pie Chart of {column_name}')\n",
    "    ax.legend(column_data, loc=\"best\")\n",
    "    plt.show()"
   ]
  },
  {
   "cell_type": "code",
   "execution_count": 49,
   "id": "436188fc",
   "metadata": {
    "colab": {
     "base_uri": "https://localhost:8080/",
     "height": 296
    },
    "id": "436188fc",
    "outputId": "b829a304-8deb-486a-f69f-78f816980ac2"
   },
   "outputs": [
    {
     "data": {
      "text/plain": [
       "[Text(0, 0, '92836'), Text(0, 0, '7164'), Text(0, 0, ''), Text(0, 0, '')]"
      ]
     },
     "execution_count": 49,
     "metadata": {},
     "output_type": "execute_result"
    },
    {
     "data": {
      "image/png": "[encoded data removed]",
      "text/plain": [
       "<Figure size 640x480 with 1 Axes>"
      ]
     },
     "metadata": {},
     "output_type": "display_data"
    }
   ],
   "source": [
    "ax = sns.countplot(x = df['time'],\n",
    "                   order = df['time'].value_counts (ascending=False).index);\n",
    "abs_values = df['time'].value_counts (ascending = False).values \n",
    "                          \n",
    "ax.bar_label (container=ax.containers[0], labels=abs_values)"
   ]
  },
  {
   "cell_type": "code",
   "execution_count": 50,
   "id": "f1cad524",
   "metadata": {
    "colab": {
     "base_uri": "https://localhost:8080/",
     "height": 388
    },
    "id": "f1cad524",
    "outputId": "cd2fc306-26c0-4fbb-9b46-7afee101ef88"
   },
   "outputs": [
    {
     "data": {
      "image/png": "[encoded data removed]",
      "text/plain": [
       "<Figure size 640x480 with 2 Axes>"
      ]
     },
     "metadata": {},
     "output_type": "display_data"
    }
   ],
   "source": [
    "# Compute the correlation matrix\n",
    "corr_matrix = df.corr()\n",
    "\n",
    "# Create a heatmap using Seaborn\n",
    "sns.heatmap(corr_matrix, cmap='coolwarm')\n",
    "\n",
    "# Add title and axis labels\n",
    "plt.title('Correlation Matrix')\n",
    "plt.xlabel('Features')\n",
    "plt.ylabel('Features')\n",
    "\n",
    "# Show the plot\n",
    "plt.show()"
   ]
  },
  {
   "cell_type": "code",
   "execution_count": 51,
   "id": "19257346",
   "metadata": {},
   "outputs": [
    {
     "data": {
      "text/plain": [
       "<AxesSubplot:title={'center':'Correlation Matrix'}>"
      ]
     },
     "execution_count": 51,
     "metadata": {},
     "output_type": "execute_result"
    },
    {
     "data": {
      "image/png": "[encoded data removed]",
      "text/plain": [
       "<Figure size 1500x1500 with 2 Axes>"
      ]
     },
     "metadata": {},
     "output_type": "display_data"
    }
   ],
   "source": [
    "correlation = df.corr()\n",
    "plt.figure(figsize=(15,15))\n",
    "plt.title('Correlation Matrix')\n",
    "sns.heatmap(correlation, vmax=1, square=True,annot=True,cmap=\"YlGnBu\")"
   ]
  },
  {
   "cell_type": "code",
   "execution_count": 52,
   "id": "0bef6d33",
   "metadata": {
    "colab": {
     "base_uri": "https://localhost:8080/"
    },
    "id": "0bef6d33",
    "outputId": "38d1f76e-1205-46d9-ba21-4a14908c6d52"
   },
   "outputs": [
    {
     "data": {
      "text/plain": [
       "Index(['time', 'transaction_type', 'amount', 'oldbalanceOrg', 'newbalanceOrg',\n",
       "       'oldbalanceDest', 'newbalanceDest', 'isFraud'],\n",
       "      dtype='object')"
      ]
     },
     "execution_count": 52,
     "metadata": {},
     "output_type": "execute_result"
    }
   ],
   "source": [
    "df.columns"
   ]
  },
  {
   "cell_type": "code",
   "execution_count": 53,
   "id": "38fd808c",
   "metadata": {
    "colab": {
     "base_uri": "https://localhost:8080/"
    },
    "id": "38fd808c",
    "outputId": "5a7acf62-d556-49ba-b992-51e1d08b67f4"
   },
   "outputs": [
    {
     "name": "stdout",
     "output_type": "stream",
     "text": [
      "<class 'pandas.core.frame.DataFrame'>\n",
      "RangeIndex: 100000 entries, 0 to 99999\n",
      "Data columns (total 8 columns):\n",
      " #   Column            Non-Null Count   Dtype   \n",
      "---  ------            --------------   -----   \n",
      " 0   time              100000 non-null  category\n",
      " 1   transaction_type  100000 non-null  object  \n",
      " 2   amount            100000 non-null  float64 \n",
      " 3   oldbalanceOrg     100000 non-null  float64 \n",
      " 4   newbalanceOrg     100000 non-null  float64 \n",
      " 5   oldbalanceDest    100000 non-null  float64 \n",
      " 6   newbalanceDest    100000 non-null  float64 \n",
      " 7   isFraud           100000 non-null  int64   \n",
      "dtypes: category(1), float64(5), int64(1), object(1)\n",
      "memory usage: 5.4+ MB\n"
     ]
    }
   ],
   "source": [
    "df.info()"
   ]
  },
  {
   "cell_type": "code",
   "execution_count": 54,
   "id": "4e6e4226",
   "metadata": {
    "id": "4e6e4226"
   },
   "outputs": [],
   "source": [
    "df1 = df.drop(['time'],axis = 1)"
   ]
  },
  {
   "cell_type": "code",
   "execution_count": 55,
   "id": "eebcc275",
   "metadata": {
    "scrolled": true
   },
   "outputs": [
    {
     "data": {
      "text/html": [
       "<div>\n",
       "<style scoped>\n",
       "    .dataframe tbody tr th:only-of-type {\n",
       "        vertical-align: middle;\n",
       "    }\n",
       "\n",
       "    .dataframe tbody tr th {\n",
       "        vertical-align: top;\n",
       "    }\n",
       "\n",
       "    .dataframe thead th {\n",
       "        text-align: right;\n",
       "    }\n",
       "</style>\n",
       "<table border=\"1\" class=\"dataframe\">\n",
       "  <thead>\n",
       "    <tr style=\"text-align: right;\">\n",
       "      <th></th>\n",
       "      <th>transaction_type</th>\n",
       "      <th>amount</th>\n",
       "      <th>oldbalanceOrg</th>\n",
       "      <th>newbalanceOrg</th>\n",
       "      <th>oldbalanceDest</th>\n",
       "      <th>newbalanceDest</th>\n",
       "      <th>isFraud</th>\n",
       "    </tr>\n",
       "  </thead>\n",
       "  <tbody>\n",
       "    <tr>\n",
       "      <th>0</th>\n",
       "      <td>PAYMENT</td>\n",
       "      <td>9839.64</td>\n",
       "      <td>170136.0</td>\n",
       "      <td>160296.36</td>\n",
       "      <td>0.00</td>\n",
       "      <td>9839.64</td>\n",
       "      <td>0</td>\n",
       "    </tr>\n",
       "    <tr>\n",
       "      <th>1</th>\n",
       "      <td>PAYMENT</td>\n",
       "      <td>1864.28</td>\n",
       "      <td>21249.0</td>\n",
       "      <td>19384.72</td>\n",
       "      <td>0.00</td>\n",
       "      <td>1864.28</td>\n",
       "      <td>0</td>\n",
       "    </tr>\n",
       "    <tr>\n",
       "      <th>2</th>\n",
       "      <td>TRANSFER</td>\n",
       "      <td>181.00</td>\n",
       "      <td>181.0</td>\n",
       "      <td>0.00</td>\n",
       "      <td>0.00</td>\n",
       "      <td>181.00</td>\n",
       "      <td>1</td>\n",
       "    </tr>\n",
       "    <tr>\n",
       "      <th>3</th>\n",
       "      <td>CASH_OUT</td>\n",
       "      <td>181.00</td>\n",
       "      <td>181.0</td>\n",
       "      <td>0.00</td>\n",
       "      <td>21182.00</td>\n",
       "      <td>21363.00</td>\n",
       "      <td>1</td>\n",
       "    </tr>\n",
       "    <tr>\n",
       "      <th>4</th>\n",
       "      <td>PAYMENT</td>\n",
       "      <td>11668.14</td>\n",
       "      <td>41554.0</td>\n",
       "      <td>29885.86</td>\n",
       "      <td>0.00</td>\n",
       "      <td>11668.14</td>\n",
       "      <td>0</td>\n",
       "    </tr>\n",
       "    <tr>\n",
       "      <th>...</th>\n",
       "      <td>...</td>\n",
       "      <td>...</td>\n",
       "      <td>...</td>\n",
       "      <td>...</td>\n",
       "      <td>...</td>\n",
       "      <td>...</td>\n",
       "      <td>...</td>\n",
       "    </tr>\n",
       "    <tr>\n",
       "      <th>99995</th>\n",
       "      <td>PAYMENT</td>\n",
       "      <td>4020.66</td>\n",
       "      <td>20100.0</td>\n",
       "      <td>16079.34</td>\n",
       "      <td>0.00</td>\n",
       "      <td>4020.66</td>\n",
       "      <td>0</td>\n",
       "    </tr>\n",
       "    <tr>\n",
       "      <th>99996</th>\n",
       "      <td>PAYMENT</td>\n",
       "      <td>18345.49</td>\n",
       "      <td>20100.0</td>\n",
       "      <td>1754.51</td>\n",
       "      <td>0.00</td>\n",
       "      <td>18345.49</td>\n",
       "      <td>0</td>\n",
       "    </tr>\n",
       "    <tr>\n",
       "      <th>99997</th>\n",
       "      <td>CASH_IN</td>\n",
       "      <td>183774.91</td>\n",
       "      <td>20100.0</td>\n",
       "      <td>0.00</td>\n",
       "      <td>54925.05</td>\n",
       "      <td>238699.96</td>\n",
       "      <td>0</td>\n",
       "    </tr>\n",
       "    <tr>\n",
       "      <th>99998</th>\n",
       "      <td>CASH_OUT</td>\n",
       "      <td>82237.17</td>\n",
       "      <td>20100.0</td>\n",
       "      <td>0.00</td>\n",
       "      <td>592635.66</td>\n",
       "      <td>674872.83</td>\n",
       "      <td>0</td>\n",
       "    </tr>\n",
       "    <tr>\n",
       "      <th>99999</th>\n",
       "      <td>PAYMENT</td>\n",
       "      <td>20096.56</td>\n",
       "      <td>20100.0</td>\n",
       "      <td>3.44</td>\n",
       "      <td>0.00</td>\n",
       "      <td>20096.56</td>\n",
       "      <td>0</td>\n",
       "    </tr>\n",
       "  </tbody>\n",
       "</table>\n",
       "<p>100000 rows × 7 columns</p>\n",
       "</div>"
      ],
      "text/plain": [
       "      transaction_type     amount  oldbalanceOrg  newbalanceOrg  \\\n",
       "0              PAYMENT    9839.64       170136.0      160296.36   \n",
       "1              PAYMENT    1864.28        21249.0       19384.72   \n",
       "2             TRANSFER     181.00          181.0           0.00   \n",
       "3             CASH_OUT     181.00          181.0           0.00   \n",
       "4              PAYMENT   11668.14        41554.0       29885.86   \n",
       "...                ...        ...            ...            ...   \n",
       "99995          PAYMENT    4020.66        20100.0       16079.34   \n",
       "99996          PAYMENT   18345.49        20100.0        1754.51   \n",
       "99997          CASH_IN  183774.91        20100.0           0.00   \n",
       "99998         CASH_OUT   82237.17        20100.0           0.00   \n",
       "99999          PAYMENT   20096.56        20100.0           3.44   \n",
       "\n",
       "       oldbalanceDest  newbalanceDest  isFraud  \n",
       "0                0.00         9839.64        0  \n",
       "1                0.00         1864.28        0  \n",
       "2                0.00          181.00        1  \n",
       "3            21182.00        21363.00        1  \n",
       "4                0.00        11668.14        0  \n",
       "...               ...             ...      ...  \n",
       "99995            0.00         4020.66        0  \n",
       "99996            0.00        18345.49        0  \n",
       "99997        54925.05       238699.96        0  \n",
       "99998       592635.66       674872.83        0  \n",
       "99999            0.00        20096.56        0  \n",
       "\n",
       "[100000 rows x 7 columns]"
      ]
     },
     "execution_count": 55,
     "metadata": {},
     "output_type": "execute_result"
    }
   ],
   "source": [
    "df1 "
   ]
  },
  {
   "cell_type": "code",
   "execution_count": 59,
   "id": "7a5d77b6",
   "metadata": {},
   "outputs": [],
   "source": [
    "# get all categorical columns in the dataframe\n",
    "catCols = [col for col in df1.columns if df1[col].dtype==\"O\"]\n",
    "\n",
    "from sklearn.preprocessing import LabelEncoder\n",
    "\n",
    "lb_make = LabelEncoder()\n",
    "\n",
    "for item in catCols:\n",
    "    df1[item] = lb_make.fit_transform(df1[item])\n"
   ]
  },
  {
   "cell_type": "code",
   "execution_count": 60,
   "id": "842b02ce",
   "metadata": {},
   "outputs": [
    {
     "data": {
      "text/html": [
       "<div>\n",
       "<style scoped>\n",
       "    .dataframe tbody tr th:only-of-type {\n",
       "        vertical-align: middle;\n",
       "    }\n",
       "\n",
       "    .dataframe tbody tr th {\n",
       "        vertical-align: top;\n",
       "    }\n",
       "\n",
       "    .dataframe thead th {\n",
       "        text-align: right;\n",
       "    }\n",
       "</style>\n",
       "<table border=\"1\" class=\"dataframe\">\n",
       "  <thead>\n",
       "    <tr style=\"text-align: right;\">\n",
       "      <th></th>\n",
       "      <th>transaction_type</th>\n",
       "      <th>amount</th>\n",
       "      <th>oldbalanceOrg</th>\n",
       "      <th>newbalanceOrg</th>\n",
       "      <th>oldbalanceDest</th>\n",
       "      <th>newbalanceDest</th>\n",
       "      <th>isFraud</th>\n",
       "    </tr>\n",
       "  </thead>\n",
       "  <tbody>\n",
       "    <tr>\n",
       "      <th>0</th>\n",
       "      <td>3</td>\n",
       "      <td>9839.64</td>\n",
       "      <td>170136.0</td>\n",
       "      <td>160296.36</td>\n",
       "      <td>0.00</td>\n",
       "      <td>9839.64</td>\n",
       "      <td>0</td>\n",
       "    </tr>\n",
       "    <tr>\n",
       "      <th>1</th>\n",
       "      <td>3</td>\n",
       "      <td>1864.28</td>\n",
       "      <td>21249.0</td>\n",
       "      <td>19384.72</td>\n",
       "      <td>0.00</td>\n",
       "      <td>1864.28</td>\n",
       "      <td>0</td>\n",
       "    </tr>\n",
       "    <tr>\n",
       "      <th>2</th>\n",
       "      <td>4</td>\n",
       "      <td>181.00</td>\n",
       "      <td>181.0</td>\n",
       "      <td>0.00</td>\n",
       "      <td>0.00</td>\n",
       "      <td>181.00</td>\n",
       "      <td>1</td>\n",
       "    </tr>\n",
       "    <tr>\n",
       "      <th>3</th>\n",
       "      <td>1</td>\n",
       "      <td>181.00</td>\n",
       "      <td>181.0</td>\n",
       "      <td>0.00</td>\n",
       "      <td>21182.00</td>\n",
       "      <td>21363.00</td>\n",
       "      <td>1</td>\n",
       "    </tr>\n",
       "    <tr>\n",
       "      <th>4</th>\n",
       "      <td>3</td>\n",
       "      <td>11668.14</td>\n",
       "      <td>41554.0</td>\n",
       "      <td>29885.86</td>\n",
       "      <td>0.00</td>\n",
       "      <td>11668.14</td>\n",
       "      <td>0</td>\n",
       "    </tr>\n",
       "    <tr>\n",
       "      <th>...</th>\n",
       "      <td>...</td>\n",
       "      <td>...</td>\n",
       "      <td>...</td>\n",
       "      <td>...</td>\n",
       "      <td>...</td>\n",
       "      <td>...</td>\n",
       "      <td>...</td>\n",
       "    </tr>\n",
       "    <tr>\n",
       "      <th>99995</th>\n",
       "      <td>3</td>\n",
       "      <td>4020.66</td>\n",
       "      <td>20100.0</td>\n",
       "      <td>16079.34</td>\n",
       "      <td>0.00</td>\n",
       "      <td>4020.66</td>\n",
       "      <td>0</td>\n",
       "    </tr>\n",
       "    <tr>\n",
       "      <th>99996</th>\n",
       "      <td>3</td>\n",
       "      <td>18345.49</td>\n",
       "      <td>20100.0</td>\n",
       "      <td>1754.51</td>\n",
       "      <td>0.00</td>\n",
       "      <td>18345.49</td>\n",
       "      <td>0</td>\n",
       "    </tr>\n",
       "    <tr>\n",
       "      <th>99997</th>\n",
       "      <td>0</td>\n",
       "      <td>183774.91</td>\n",
       "      <td>20100.0</td>\n",
       "      <td>0.00</td>\n",
       "      <td>54925.05</td>\n",
       "      <td>238699.96</td>\n",
       "      <td>0</td>\n",
       "    </tr>\n",
       "    <tr>\n",
       "      <th>99998</th>\n",
       "      <td>1</td>\n",
       "      <td>82237.17</td>\n",
       "      <td>20100.0</td>\n",
       "      <td>0.00</td>\n",
       "      <td>592635.66</td>\n",
       "      <td>674872.83</td>\n",
       "      <td>0</td>\n",
       "    </tr>\n",
       "    <tr>\n",
       "      <th>99999</th>\n",
       "      <td>3</td>\n",
       "      <td>20096.56</td>\n",
       "      <td>20100.0</td>\n",
       "      <td>3.44</td>\n",
       "      <td>0.00</td>\n",
       "      <td>20096.56</td>\n",
       "      <td>0</td>\n",
       "    </tr>\n",
       "  </tbody>\n",
       "</table>\n",
       "<p>100000 rows × 7 columns</p>\n",
       "</div>"
      ],
      "text/plain": [
       "       transaction_type     amount  oldbalanceOrg  newbalanceOrg  \\\n",
       "0                     3    9839.64       170136.0      160296.36   \n",
       "1                     3    1864.28        21249.0       19384.72   \n",
       "2                     4     181.00          181.0           0.00   \n",
       "3                     1     181.00          181.0           0.00   \n",
       "4                     3   11668.14        41554.0       29885.86   \n",
       "...                 ...        ...            ...            ...   \n",
       "99995                 3    4020.66        20100.0       16079.34   \n",
       "99996                 3   18345.49        20100.0        1754.51   \n",
       "99997                 0  183774.91        20100.0           0.00   \n",
       "99998                 1   82237.17        20100.0           0.00   \n",
       "99999                 3   20096.56        20100.0           3.44   \n",
       "\n",
       "       oldbalanceDest  newbalanceDest  isFraud  \n",
       "0                0.00         9839.64        0  \n",
       "1                0.00         1864.28        0  \n",
       "2                0.00          181.00        1  \n",
       "3            21182.00        21363.00        1  \n",
       "4                0.00        11668.14        0  \n",
       "...               ...             ...      ...  \n",
       "99995            0.00         4020.66        0  \n",
       "99996            0.00        18345.49        0  \n",
       "99997        54925.05       238699.96        0  \n",
       "99998       592635.66       674872.83        0  \n",
       "99999            0.00        20096.56        0  \n",
       "\n",
       "[100000 rows x 7 columns]"
      ]
     },
     "execution_count": 60,
     "metadata": {},
     "output_type": "execute_result"
    }
   ],
   "source": [
    "df1"
   ]
  },
  {
   "cell_type": "code",
   "execution_count": 62,
   "id": "98f09a7c",
   "metadata": {},
   "outputs": [
    {
     "data": {
      "text/plain": [
       "3    39512\n",
       "1    30718\n",
       "0    20185\n",
       "4     8597\n",
       "2      988\n",
       "Name: transaction_type, dtype: int64"
      ]
     },
     "execution_count": 62,
     "metadata": {},
     "output_type": "execute_result"
    }
   ],
   "source": [
    "df1['transaction_type'].value_counts()"
   ]
  },
  {
   "cell_type": "raw",
   "id": "f7b4f80f",
   "metadata": {},
   "source": [
    "0-cash_in\n",
    "1-cash_out\n",
    "2-debit\n",
    "3-payment\n",
    "4-transfer\n"
   ]
  },
  {
   "cell_type": "code",
   "execution_count": 68,
   "id": "59360a40",
   "metadata": {},
   "outputs": [],
   "source": [
    "# Split the data into X and y\n",
    "X = df1.drop('isFraud', axis=1)\n",
    "y = df1['isFraud']"
   ]
  },
  {
   "cell_type": "code",
   "execution_count": 69,
   "id": "adbb206f",
   "metadata": {},
   "outputs": [
    {
     "name": "stdout",
     "output_type": "stream",
     "text": [
      "Accuracy on test set: 0.83995\n"
     ]
    }
   ],
   "source": [
    "import pandas as pd\n",
    "import xgboost as xgb\n",
    "import pickle\n",
    "from imblearn.over_sampling import SMOTE\n",
    "from sklearn.preprocessing import OneHotEncoder, MinMaxScaler\n",
    "from sklearn.compose import ColumnTransformer\n",
    "from imblearn.pipeline import make_pipeline\n",
    "from sklearn.model_selection import train_test_split\n",
    "\n",
    "# Define the column transformer\n",
    "preprocessor = ColumnTransformer(\n",
    "    transformers=[\n",
    "        ('scaler', MinMaxScaler(), slice(1, None))\n",
    "    ])\n",
    "\n",
    "# Define the pipeline\n",
    "pipeline = make_pipeline(\n",
    "    preprocessor,\n",
    "    SMOTE(random_state=42),\n",
    "    xgb.XGBClassifier()\n",
    ")\n",
    "\n",
    "# Split the data into train and test sets\n",
    "X_train, X_test, y_train, y_test = train_test_split(X, y, test_size=0.2, random_state=42)\n",
    "\n",
    "# Fit the pipeline on the training data\n",
    "pipeline.fit(X_train, y_train)\n",
    "\n",
    "# Evaluate the model on the test set\n",
    "print('Accuracy on test set:', pipeline.score(X_test, y_test))"
   ]
  },
  {
   "cell_type": "code",
   "execution_count": 70,
   "id": "8b9ac36f",
   "metadata": {},
   "outputs": [],
   "source": [
    "# Save the model using pickle\n",
    "filename = 'xgb_model.pkl'\n",
    "pickle.dump(pipeline, open(filename, 'wb'))"
   ]
  },
  {
   "cell_type": "code",
   "execution_count": 71,
   "id": "e665ef1e",
   "metadata": {},
   "outputs": [],
   "source": [
    "# loading the saved model\n",
    "loaded_model = pickle.load(open('xgb_model.pkl', 'rb'))"
   ]
  },
  {
   "cell_type": "code",
   "execution_count": 74,
   "id": "ada97216",
   "metadata": {},
   "outputs": [
    {
     "name": "stdout",
     "output_type": "stream",
     "text": [
      "[0]\n",
      "The person is dealing with money laundering\n"
     ]
    }
   ],
   "source": [
    "## Building a Predictive System \n",
    "input_data = (3,9839.64,170136.0,160296.36,0.00,9839.64)\n",
    "\n",
    "# changing the input_data to numpy array\n",
    "input_data_as_numpy_array = np.asarray(input_data)\n",
    "\n",
    "# reshape the array as we are predicting for one instance\n",
    "input_data_reshaped = input_data_as_numpy_array.reshape(1,-1)\n",
    "\n",
    "prediction = loaded_model.predict(input_data_reshaped)\n",
    "print(prediction)\n",
    "\n",
    "if (prediction[0] == 0):\n",
    "  print('The person is dealing with money laundering')\n",
    "else:\n",
    "  print('The person is not dealing with money laundering')"
   ]
  },
  {
   "cell_type": "code",
   "execution_count": null,
   "id": "9d27fa38",
   "metadata": {},
   "outputs": [],
   "source": []
  }
 ],
 "metadata": {
  "accelerator": "GPU",
  "colab": {
   "provenance": []
  },
  "gpuClass": "standard",
  "kernelspec": {
   "display_name": "Python 3 (ipykernel)",
   "language": "python",
   "name": "python3"
  },
  "language_info": {
   "codemirror_mode": {
    "name": "ipython",
    "version": 3
   },
   "file_extension": ".py",
   "mimetype": "text/x-python",
   "name": "python",
   "nbconvert_exporter": "python",
   "pygments_lexer": "ipython3",
   "version": "3.9.13"
  }
 },
 "nbformat": 4,
 "nbformat_minor": 5
}
